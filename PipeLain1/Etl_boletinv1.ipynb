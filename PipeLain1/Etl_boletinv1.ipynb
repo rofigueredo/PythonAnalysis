{
 "cells": [
  {
   "cell_type": "markdown",
   "id": "def3d87b",
   "metadata": {},
   "source": [
    "Proyecto Datos estadisticos de Bancos BCParaguay; Data Engineer:  Rodrigo Figueredo\n",
    "Objetivo: se necesita un proceso consistente de extraccion de datos para cargarlo en un Datawarehouse en SQL, el proceso deberá correr de forma mensual y que contenga los datos consistente y evitar a manipulación manual del excel origen.\n",
    "\n",
    "🧩1. Extracción (Extract)"
   ]
  },
  {
   "cell_type": "code",
   "execution_count": 1,
   "id": "1a662a07",
   "metadata": {},
   "outputs": [
    {
     "name": "stdout",
     "output_type": "stream",
     "text": [
      "Hoja: EEFF, Filas: 224012\n",
      "Hoja: Ratios, Filas: 82673\n",
      "Hoja: Carteras, Filas: 49860\n",
      "Hoja: Credito Sector, Filas: 43629\n",
      "Hoja: CreditoActividad, Filas: 9333\n",
      "Hoja: Categoría_Creditos, Filas: 14500\n",
      "Hoja: TC, Filas: 3872\n",
      "Hoja: Canales_Person, Filas: 13198\n",
      "Hoja: Inhab, Filas: 7443\n"
     ]
    }
   ],
   "source": [
    "## Importamos las libreria necesarias para el Proyecto\n",
    "import pandas as pd\n",
    "\n",
    "# Cargar todas las hojas del Excel en un diccionario\n",
    "excel_file = 'C:/Users/rfigu/Documents/Python Scripts/BoletinBCP/Tablas_Boletin_Bancos_Jul25.xlsx'\n",
    "sheets_dict = pd.read_excel(excel_file, sheet_name=None)\n",
    "\n",
    "# Acceder a cada hoja como DataFrame\n",
    "for sheet_name, df in sheets_dict.items():\n",
    "    print(f\"Hoja: {sheet_name}, Filas: {len(df)}\")"
   ]
  },
  {
   "cell_type": "code",
   "execution_count": 23,
   "id": "d8d2cae7",
   "metadata": {},
   "outputs": [
    {
     "data": {
      "text/html": [
       "<div>\n",
       "<style scoped>\n",
       "    .dataframe tbody tr th:only-of-type {\n",
       "        vertical-align: middle;\n",
       "    }\n",
       "\n",
       "    .dataframe tbody tr th {\n",
       "        vertical-align: top;\n",
       "    }\n",
       "\n",
       "    .dataframe thead th {\n",
       "        text-align: right;\n",
       "    }\n",
       "</style>\n",
       "<table border=\"1\" class=\"dataframe\">\n",
       "  <thead>\n",
       "    <tr style=\"text-align: right;\">\n",
       "      <th></th>\n",
       "      <th>Fecha</th>\n",
       "      <th>Codigo Entidad</th>\n",
       "      <th>Codigo Cuenta</th>\n",
       "      <th>Codigo Moneda</th>\n",
       "      <th>Importe</th>\n",
       "    </tr>\n",
       "  </thead>\n",
       "  <tbody>\n",
       "    <tr>\n",
       "      <th>0</th>\n",
       "      <td>2016-01-31</td>\n",
       "      <td>1002</td>\n",
       "      <td>Cartera Vigente</td>\n",
       "      <td>6200</td>\n",
       "      <td>2.383314e+05</td>\n",
       "    </tr>\n",
       "    <tr>\n",
       "      <th>1</th>\n",
       "      <td>2016-01-31</td>\n",
       "      <td>1002</td>\n",
       "      <td>Cartera Vigente</td>\n",
       "      <td>6900</td>\n",
       "      <td>2.075860e+06</td>\n",
       "    </tr>\n",
       "    <tr>\n",
       "      <th>2</th>\n",
       "      <td>2016-01-31</td>\n",
       "      <td>1002</td>\n",
       "      <td>Cartera Vigente Neta de Previsiones</td>\n",
       "      <td>6200</td>\n",
       "      <td>2.383314e+05</td>\n",
       "    </tr>\n",
       "    <tr>\n",
       "      <th>3</th>\n",
       "      <td>2016-01-31</td>\n",
       "      <td>1002</td>\n",
       "      <td>Cartera Vigente Neta de Previsiones</td>\n",
       "      <td>6900</td>\n",
       "      <td>2.051322e+06</td>\n",
       "    </tr>\n",
       "    <tr>\n",
       "      <th>4</th>\n",
       "      <td>2016-01-31</td>\n",
       "      <td>1002</td>\n",
       "      <td>Renovados</td>\n",
       "      <td>6200</td>\n",
       "      <td>1.601913e+04</td>\n",
       "    </tr>\n",
       "  </tbody>\n",
       "</table>\n",
       "</div>"
      ],
      "text/plain": [
       "       Fecha  Codigo Entidad                        Codigo Cuenta  \\\n",
       "0 2016-01-31            1002                      Cartera Vigente   \n",
       "1 2016-01-31            1002                      Cartera Vigente   \n",
       "2 2016-01-31            1002  Cartera Vigente Neta de Previsiones   \n",
       "3 2016-01-31            1002  Cartera Vigente Neta de Previsiones   \n",
       "4 2016-01-31            1002                            Renovados   \n",
       "\n",
       "   Codigo Moneda       Importe  \n",
       "0           6200  2.383314e+05  \n",
       "1           6900  2.075860e+06  \n",
       "2           6200  2.383314e+05  \n",
       "3           6900  2.051322e+06  \n",
       "4           6200  1.601913e+04  "
      ]
     },
     "execution_count": 23,
     "metadata": {},
     "output_type": "execute_result"
    }
   ],
   "source": [
    "## Vista previa de los datos la hoja\n",
    "sheets_dict.get('Carteras').head()"
   ]
  },
  {
   "cell_type": "code",
   "execution_count": 26,
   "id": "175c25da",
   "metadata": {},
   "outputs": [
    {
     "data": {
      "text/plain": [
       "Fecha             datetime64[ns]\n",
       "Codigo Entidad             int64\n",
       "Clasificación             object\n",
       "Total                    float64\n",
       "dtype: object"
      ]
     },
     "execution_count": 26,
     "metadata": {},
     "output_type": "execute_result"
    }
   ],
   "source": [
    "## Vista previa de los tipos de datos la hoja\n",
    "sheets_dict.get('TC').dtypes"
   ]
  }
 ],
 "metadata": {
  "kernelspec": {
   "display_name": "Python 3",
   "language": "python",
   "name": "python3"
  },
  "language_info": {
   "codemirror_mode": {
    "name": "ipython",
    "version": 3
   },
   "file_extension": ".py",
   "mimetype": "text/x-python",
   "name": "python",
   "nbconvert_exporter": "python",
   "pygments_lexer": "ipython3",
   "version": "3.11.2"
  }
 },
 "nbformat": 4,
 "nbformat_minor": 5
}
