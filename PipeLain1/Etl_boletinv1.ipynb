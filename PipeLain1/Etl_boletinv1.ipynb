{
 "cells": [
  {
   "cell_type": "markdown",
   "id": "def3d87b",
   "metadata": {},
   "source": [
    "## Proyecto Datos estadisticos de Bancos BCParaguay; \n",
    "Data Engineer:  Rodrigo Figueredo \n",
    "Objetivo: se necesita un proceso consistente de extraccion de datos para cargarlo en un Datawarehouse en SQL, el proceso deberá correr de forma mensual y que contenga los datos consistente y evitar a manipulación manual del excel origen.\n",
    "\n",
    "Antes que nada debemos monitorear, depurar y auditar cada paso. \n"
   ]
  },
  {
   "cell_type": "code",
   "execution_count": 10,
   "id": "ff36325a",
   "metadata": {},
   "outputs": [
    {
     "name": "stdout",
     "output_type": "stream",
     "text": [
      "Se inicializa parametros\n"
     ]
    }
   ],
   "source": [
    "\n",
    "# Configuración logging\n",
    "# Primero, configuramos el logger al inicio del script:\n",
    "import os\n",
    "import logging\n",
    "import pandas as pd\n",
    "from sqlalchemy import create_engine\n",
    "from datetime import datetime\n",
    "import logging\n",
    "import pyodbc\n",
    "import re\n",
    "import unidecode\n",
    "\n",
    "# Obtener la ruta actual\n",
    "ruta_actual = os.getcwd()\n",
    "# Configurar logging\n",
    "logging.basicConfig(\n",
    "    filename=f'{ruta_actual}/etl_proceso.log',       # Archivo de log\n",
    "    level=logging.INFO,               # Nivel de log: DEBUG, INFO, WARNING, ERROR, CRITICAL\n",
    "    format='%(asctime)s - %(levelname)s - %(message)s',\n",
    "    filemode='w'                      # 'w' sobrescribe cada vez, 'a' acumula\n",
    ")\n",
    "\n",
    "logger = logging.getLogger()\n",
    "print('Se inicializa parametros')"
   ]
  },
  {
   "cell_type": "markdown",
   "id": "68977b47",
   "metadata": {},
   "source": [
    "🧩1. Extracción (Extract)"
   ]
  },
  {
   "cell_type": "code",
   "execution_count": 11,
   "id": "58ede28b",
   "metadata": {},
   "outputs": [
    {
     "name": "stdout",
     "output_type": "stream",
     "text": [
      "Hoja: EEFF, Filas: 225891\n",
      "Hoja: Ratios, Filas: 83353\n",
      "Hoja: Carteras, Filas: 50290\n",
      "Hoja: Credito Sector, Filas: 44007\n",
      "Hoja: Credito Actividad, Filas: 9415\n",
      "Hoja: Categoría Creditos, Filas: 14617\n",
      "Hoja: TC, Filas: 3898\n",
      "Hoja: Canales & Person, Filas: 13326\n",
      "Hoja: Inhab, Filas: 7478\n"
     ]
    }
   ],
   "source": [
    "# Obtener ruta actual\n",
    "ruta_actual = os.getcwd()\n",
    "logger.info(f\"Ruta actual de ejecución: {ruta_actual}\")\n",
    "\n",
    "# Ruta del archivo Excel\n",
    "excel_file = 'C:/Users/rfigu/Documents/Python Scripts/BoletinBCP/1.1 Tablas Boletín Bancos Ago25 v2.xlsx'\n",
    "\n",
    "# Extracción de hojas\n",
    "try:\n",
    "    logger.info(f\"Iniciando lectura del archivo Excel: {excel_file}\")\n",
    "    sheets_dict = pd.read_excel(excel_file, sheet_name=None)\n",
    "    logger.info(f\"Lectura exitosa. Hojas encontradas: {list(sheets_dict.keys())}\")\n",
    "    \n",
    "    # Acceder a cada hoja como DataFrame\n",
    "    for sheet_name, df in sheets_dict.items():\n",
    "        logger.info(f\"Hoja: {sheet_name}, Filas: {len(df)}\")\n",
    "        print(f\"Hoja: {sheet_name}, Filas: {len(df)}\")\n",
    "\n",
    "except Exception as e:\n",
    "    logger.error(f\"Error al leer el archivo Excel: {e}\")\n",
    "    print(f\"Error: {e}\")"
   ]
  },
  {
   "cell_type": "markdown",
   "id": "78526437",
   "metadata": {},
   "source": [
    "1.1 EDA - Exploratory Data Analysis"
   ]
  },
  {
   "cell_type": "code",
   "execution_count": 12,
   "id": "d8d2cae7",
   "metadata": {},
   "outputs": [
    {
     "data": {
      "text/html": [
       "<div>\n",
       "<style scoped>\n",
       "    .dataframe tbody tr th:only-of-type {\n",
       "        vertical-align: middle;\n",
       "    }\n",
       "\n",
       "    .dataframe tbody tr th {\n",
       "        vertical-align: top;\n",
       "    }\n",
       "\n",
       "    .dataframe thead th {\n",
       "        text-align: right;\n",
       "    }\n",
       "</style>\n",
       "<table border=\"1\" class=\"dataframe\">\n",
       "  <thead>\n",
       "    <tr style=\"text-align: right;\">\n",
       "      <th></th>\n",
       "      <th>Fecha</th>\n",
       "      <th>Codigo Entidad</th>\n",
       "      <th>Codigo Cuenta</th>\n",
       "      <th>Codigo Moneda</th>\n",
       "      <th>Importe</th>\n",
       "    </tr>\n",
       "  </thead>\n",
       "  <tbody>\n",
       "    <tr>\n",
       "      <th>50285</th>\n",
       "      <td>2025-08-31</td>\n",
       "      <td>1047</td>\n",
       "      <td>Cartera Vencida</td>\n",
       "      <td>6900</td>\n",
       "      <td>48115.510679</td>\n",
       "    </tr>\n",
       "    <tr>\n",
       "      <th>50286</th>\n",
       "      <td>2025-08-31</td>\n",
       "      <td>1047</td>\n",
       "      <td>Medidas transitorias</td>\n",
       "      <td>6200</td>\n",
       "      <td>53086.044503</td>\n",
       "    </tr>\n",
       "    <tr>\n",
       "      <th>50287</th>\n",
       "      <td>2025-08-31</td>\n",
       "      <td>1047</td>\n",
       "      <td>Medidas transitorias</td>\n",
       "      <td>6900</td>\n",
       "      <td>12081.982817</td>\n",
       "    </tr>\n",
       "    <tr>\n",
       "      <th>50288</th>\n",
       "      <td>2025-08-31</td>\n",
       "      <td>1047</td>\n",
       "      <td>Tarjetas de Crédito</td>\n",
       "      <td>6900</td>\n",
       "      <td>28516.548051</td>\n",
       "    </tr>\n",
       "    <tr>\n",
       "      <th>50289</th>\n",
       "      <td>2025-08-31</td>\n",
       "      <td>1047</td>\n",
       "      <td>Medida Excepcional COVID 19 - Vencida</td>\n",
       "      <td>6900</td>\n",
       "      <td>199.467029</td>\n",
       "    </tr>\n",
       "  </tbody>\n",
       "</table>\n",
       "</div>"
      ],
      "text/plain": [
       "           Fecha  Codigo Entidad                          Codigo Cuenta  \\\n",
       "50285 2025-08-31            1047                        Cartera Vencida   \n",
       "50286 2025-08-31            1047                   Medidas transitorias   \n",
       "50287 2025-08-31            1047                   Medidas transitorias   \n",
       "50288 2025-08-31            1047                    Tarjetas de Crédito   \n",
       "50289 2025-08-31            1047  Medida Excepcional COVID 19 - Vencida   \n",
       "\n",
       "       Codigo Moneda       Importe  \n",
       "50285           6900  48115.510679  \n",
       "50286           6200  53086.044503  \n",
       "50287           6900  12081.982817  \n",
       "50288           6900  28516.548051  \n",
       "50289           6900    199.467029  "
      ]
     },
     "execution_count": 12,
     "metadata": {},
     "output_type": "execute_result"
    }
   ],
   "source": [
    "## Vista previa de los datos la hoja\n",
    "sheets_dict.get('Carteras').tail()"
   ]
  },
  {
   "cell_type": "code",
   "execution_count": 13,
   "id": "175c25da",
   "metadata": {},
   "outputs": [
    {
     "data": {
      "text/plain": [
       "Fecha             datetime64[ns]\n",
       "Codigo Entidad             int64\n",
       "Clasificación             object\n",
       "Total                    float64\n",
       "dtype: object"
      ]
     },
     "execution_count": 13,
     "metadata": {},
     "output_type": "execute_result"
    }
   ],
   "source": [
    "## Vista previa de los tipos de datos la hoja\n",
    "sheets_dict.get('TC').dtypes"
   ]
  },
  {
   "cell_type": "markdown",
   "id": "ee157b3a",
   "metadata": {},
   "source": [
    "🔄 2. Transformación (Transform)\n",
    "\n",
    "Aquí puedes aplicar limpieza, normalización, validación, etc. Ejemplo:\n"
   ]
  },
  {
   "cell_type": "code",
   "execution_count": 14,
   "id": "b820d59c",
   "metadata": {},
   "outputs": [],
   "source": [
    "# Función de transformación con logging\n",
    "def transforBol(df, nombre_hoja):\n",
    "    try:\n",
    "        logger.info(f\"Iniciando transformación de hoja: {nombre_hoja}\")\n",
    "\n",
    "        # Eliminar filas vacías\n",
    "        df = df.dropna(how='all')\n",
    "        logger.info(f\"Filas vacías eliminadas en hoja: {nombre_hoja}\")\n",
    "\n",
    "        # Renombrar columnas\n",
    "        columnas_originales = df.columns.tolist()\n",
    "        df.columns = [col.strip().lower().replace(' ', '_') for col in df.columns]\n",
    "        logger.info(f\"Columnas renombradas en hoja: {nombre_hoja} — Originales: {columnas_originales} → Nuevas: {df.columns.tolist()}\")\n",
    "\n",
    "        # Convertir fechas\n",
    "        if 'fecha' in df.columns:\n",
    "            df['fecha'] = pd.to_datetime(df['fecha'], errors='coerce')\n",
    "            errores_fecha = df['fecha'].isna().sum()\n",
    "            logger.info(f\"Columna 'fecha' convertida en hoja: {nombre_hoja}. Errores de conversión: {errores_fecha}\")\n",
    "        else:\n",
    "            logger.warning(f\"No se encontró columna 'fecha' en hoja: {nombre_hoja}\")\n",
    "\n",
    "        logger.info(f\"Transformación completada para hoja: {nombre_hoja}\")\n",
    "        return df\n",
    "\n",
    "    except Exception as e:\n",
    "        logger.error(f\"Error al transformar hoja {nombre_hoja}: {e}\")\n",
    "        raise\n",
    "\n",
    "# Aplicar transformación a cada hoja\n",
    "datos_transformados = {}\n",
    "\n",
    "for sheet, df in sheets_dict.items():\n",
    "    datos_transformados[sheet] = transforBol(df, sheet)"
   ]
  },
  {
   "cell_type": "code",
   "execution_count": 15,
   "id": "7e2ba96f",
   "metadata": {},
   "outputs": [
    {
     "data": {
      "text/html": [
       "<div>\n",
       "<style scoped>\n",
       "    .dataframe tbody tr th:only-of-type {\n",
       "        vertical-align: middle;\n",
       "    }\n",
       "\n",
       "    .dataframe tbody tr th {\n",
       "        vertical-align: top;\n",
       "    }\n",
       "\n",
       "    .dataframe thead th {\n",
       "        text-align: right;\n",
       "    }\n",
       "</style>\n",
       "<table border=\"1\" class=\"dataframe\">\n",
       "  <thead>\n",
       "    <tr style=\"text-align: right;\">\n",
       "      <th></th>\n",
       "      <th>fecha</th>\n",
       "      <th>codigo_entidad</th>\n",
       "      <th>codigo_moneda</th>\n",
       "      <th>actividad_destino_vs2</th>\n",
       "      <th>cartera_vencida</th>\n",
       "      <th>cartera_vigente</th>\n",
       "    </tr>\n",
       "  </thead>\n",
       "  <tbody>\n",
       "    <tr>\n",
       "      <th>0</th>\n",
       "      <td>2016-01-31</td>\n",
       "      <td>1002</td>\n",
       "      <td>6200</td>\n",
       "      <td>AGRICULTURA</td>\n",
       "      <td>2416.278988</td>\n",
       "      <td>152923.648836</td>\n",
       "    </tr>\n",
       "    <tr>\n",
       "      <th>1</th>\n",
       "      <td>2016-01-31</td>\n",
       "      <td>1002</td>\n",
       "      <td>6200</td>\n",
       "      <td>SECTOR FINANCIERO</td>\n",
       "      <td>0.000000</td>\n",
       "      <td>83374.169137</td>\n",
       "    </tr>\n",
       "    <tr>\n",
       "      <th>2</th>\n",
       "      <td>2016-01-31</td>\n",
       "      <td>1002</td>\n",
       "      <td>6200</td>\n",
       "      <td>VIVIENDA</td>\n",
       "      <td>0.000000</td>\n",
       "      <td>2033.573859</td>\n",
       "    </tr>\n",
       "  </tbody>\n",
       "</table>\n",
       "</div>"
      ],
      "text/plain": [
       "       fecha  codigo_entidad  codigo_moneda actividad_destino_vs2  \\\n",
       "0 2016-01-31            1002           6200           AGRICULTURA   \n",
       "1 2016-01-31            1002           6200     SECTOR FINANCIERO   \n",
       "2 2016-01-31            1002           6200              VIVIENDA   \n",
       "\n",
       "   cartera_vencida  cartera_vigente  \n",
       "0      2416.278988    152923.648836  \n",
       "1         0.000000     83374.169137  \n",
       "2         0.000000      2033.573859  "
      ]
     },
     "execution_count": 15,
     "metadata": {},
     "output_type": "execute_result"
    }
   ],
   "source": [
    "datos_transformados.get('Credito Sector').head(3)"
   ]
  },
  {
   "cell_type": "markdown",
   "id": "0ed54f2d",
   "metadata": {},
   "source": [
    "📥 3. Carga (Load)"
   ]
  },
  {
   "cell_type": "code",
   "execution_count": 21,
   "id": "de864630",
   "metadata": {},
   "outputs": [
    {
     "name": "stderr",
     "output_type": "stream",
     "text": [
      "C:\\Users\\rfigu\\AppData\\Local\\Temp\\ipykernel_22592\\2928162568.py:3: UserWarning: pandas only supports SQLAlchemy connectable (engine/connection) or database string URI or sqlite3 DBAPI2 connection. Other DBAPI2 objects are not tested. Please consider using SQLAlchemy.\n",
      "  df_query = pd.read_sql(query, connP)\n"
     ]
    },
    {
     "data": {
      "text/html": [
       "<div>\n",
       "<style scoped>\n",
       "    .dataframe tbody tr th:only-of-type {\n",
       "        vertical-align: middle;\n",
       "    }\n",
       "\n",
       "    .dataframe tbody tr th {\n",
       "        vertical-align: top;\n",
       "    }\n",
       "\n",
       "    .dataframe thead th {\n",
       "        text-align: right;\n",
       "    }\n",
       "</style>\n",
       "<table border=\"1\" class=\"dataframe\">\n",
       "  <thead>\n",
       "    <tr style=\"text-align: right;\">\n",
       "      <th></th>\n",
       "      <th>fecha</th>\n",
       "      <th>codigo_entidad</th>\n",
       "      <th>clasificación</th>\n",
       "      <th>total</th>\n",
       "      <th>fecha_carga</th>\n",
       "    </tr>\n",
       "  </thead>\n",
       "  <tbody>\n",
       "    <tr>\n",
       "      <th>3893</th>\n",
       "      <td>2025-08-31</td>\n",
       "      <td>1045</td>\n",
       "      <td>Saldo</td>\n",
       "      <td>4.997059e+04</td>\n",
       "      <td>2025-10-11 13:15:49.997</td>\n",
       "    </tr>\n",
       "    <tr>\n",
       "      <th>3894</th>\n",
       "      <td>2025-08-31</td>\n",
       "      <td>1046</td>\n",
       "      <td>Cantidad</td>\n",
       "      <td>1.081194e+06</td>\n",
       "      <td>2025-10-11 13:15:49.997</td>\n",
       "    </tr>\n",
       "    <tr>\n",
       "      <th>3895</th>\n",
       "      <td>2025-08-31</td>\n",
       "      <td>1046</td>\n",
       "      <td>Saldo</td>\n",
       "      <td>6.626615e+05</td>\n",
       "      <td>2025-10-11 13:15:49.997</td>\n",
       "    </tr>\n",
       "    <tr>\n",
       "      <th>3896</th>\n",
       "      <td>2025-08-31</td>\n",
       "      <td>1047</td>\n",
       "      <td>Cantidad</td>\n",
       "      <td>5.703000e+03</td>\n",
       "      <td>2025-10-11 13:15:49.997</td>\n",
       "    </tr>\n",
       "    <tr>\n",
       "      <th>3897</th>\n",
       "      <td>2025-08-31</td>\n",
       "      <td>1047</td>\n",
       "      <td>Saldo</td>\n",
       "      <td>2.851655e+04</td>\n",
       "      <td>2025-10-11 13:15:49.997</td>\n",
       "    </tr>\n",
       "  </tbody>\n",
       "</table>\n",
       "</div>"
      ],
      "text/plain": [
       "          fecha  codigo_entidad clasificación         total  \\\n",
       "3893 2025-08-31            1045         Saldo  4.997059e+04   \n",
       "3894 2025-08-31            1046      Cantidad  1.081194e+06   \n",
       "3895 2025-08-31            1046         Saldo  6.626615e+05   \n",
       "3896 2025-08-31            1047      Cantidad  5.703000e+03   \n",
       "3897 2025-08-31            1047         Saldo  2.851655e+04   \n",
       "\n",
       "                 fecha_carga  \n",
       "3893 2025-10-11 13:15:49.997  \n",
       "3894 2025-10-11 13:15:49.997  \n",
       "3895 2025-10-11 13:15:49.997  \n",
       "3896 2025-10-11 13:15:49.997  \n",
       "3897 2025-10-11 13:15:49.997  "
      ]
     },
     "execution_count": 21,
     "metadata": {},
     "output_type": "execute_result"
    }
   ],
   "source": [
    "# Consulta de prueba\n",
    "query = \"SELECT * FROM dbo.TC\"\n",
    "df_query = pd.read_sql(query, connP)\n",
    "df_query.tail()"
   ]
  },
  {
   "cell_type": "code",
   "execution_count": 17,
   "id": "e3e8a953",
   "metadata": {},
   "outputs": [
    {
     "name": "stdout",
     "output_type": "stream",
     "text": [
      "Conexión exitosa\n"
     ]
    }
   ],
   "source": [
    "# Parámetros de conexión\n",
    "server = 'ASUSTUF\\SQL22'  # Doble barra para escapar correctamente\n",
    "database = 'BolBcp'\n",
    "\n",
    "try:\n",
    "    logger.info(f\"Intentando conectar a SQL Server: {server}, Base de datos: {database}\")\n",
    "    \n",
    "    connP = pyodbc.connect(\n",
    "        'DRIVER={ODBC Driver 17 for SQL Server};'\n",
    "        f'SERVER={server};'\n",
    "        f'DATABASE={database};'\n",
    "        'Trusted_Connection=yes;'\n",
    "    )\n",
    "    \n",
    "    logger.info(\"Conexión a SQL Server establecida exitosamente.\")\n",
    "    print('Conexión exitosa')\n",
    "\n",
    "except pyodbc.Error as e:\n",
    "    logger.error(f\"Error al conectar a la base de datos: {str(e)}\")\n",
    "    print(f'Error al conectar a la base de datos: {str(e)}')\n"
   ]
  },
  {
   "cell_type": "code",
   "execution_count": 18,
   "id": "9da4f746",
   "metadata": {},
   "outputs": [
    {
     "name": "stdout",
     "output_type": "stream",
     "text": [
      "EEFF\n",
      "Ratios\n",
      "Carteras\n",
      "CreditoSector\n",
      "CreditoActividad\n",
      "CategoriaCreditos\n",
      "TC\n",
      "CanalesPerson\n",
      "Inhab\n"
     ]
    }
   ],
   "source": [
    "# Renombrar claves del diccionario\n",
    "datoslimpios = {\n",
    "    re.sub(r\"[^\\w]\", \"\", unidecode.unidecode(k.strip())): v\n",
    "    for k, v in datos_transformados.items()\n",
    "}\n",
    "\n",
    "# Recorrer el diccionario con claves limpias\n",
    "for nombre_tabla, df in datoslimpios.items():\n",
    "    print(nombre_tabla)\n"
   ]
  },
  {
   "cell_type": "code",
   "execution_count": 28,
   "id": "19091723",
   "metadata": {},
   "outputs": [
    {
     "name": "stdout",
     "output_type": "stream",
     "text": [
      "✅ conexion exitosa\n"
     ]
    }
   ],
   "source": [
    "# SQLAlchemy Parámetros de conexión\n",
    "server = 'ASUSTUF\\SQL22'\n",
    "database = 'BolBcp'\n",
    "driver = 'ODBC Driver 17 for SQL Server'\n",
    "\n",
    "# Crear cadena de conexión para SQLAlchemy\n",
    "# conexion_str = f\"mssql+pyodbc://@{server}/{database}?driver={driver}&trusted_connection=yes\"\n",
    "conexion_str = f\"mssql+pyodbc://@{server}/{database}?driver={driver}&trusted_connection=yes\"\n",
    "\n",
    "try:\n",
    "    engine = create_engine(conexion_str)\n",
    "    print(f\"✅ conexion exitosa\")\n",
    "    logger.info(f\"Conexión a SQL Server establecida: {server}, Base de datos: {database}\")\n",
    "except Exception as e:\n",
    "    print(f\"❌ fallo en la conexion\")\n",
    "    logger.error(f\"Error al crear engine SQLAlchemy: {e}\")\n",
    "    raise"
   ]
  },
  {
   "cell_type": "code",
   "execution_count": 29,
   "id": "63bd94b1",
   "metadata": {},
   "outputs": [
    {
     "name": "stdout",
     "output_type": "stream",
     "text": [
      "✅ Hoja 'EEFF' cargada exitosamente con 225891 filas.\n",
      "✅ Hoja 'Ratios' cargada exitosamente con 83353 filas.\n",
      "✅ Hoja 'Carteras' cargada exitosamente con 50290 filas.\n",
      "✅ Hoja 'CreditoSector' cargada exitosamente con 44007 filas.\n",
      "✅ Hoja 'CreditoActividad' cargada exitosamente con 9415 filas.\n",
      "✅ Hoja 'CategoriaCreditos' cargada exitosamente con 14617 filas.\n",
      "✅ Hoja 'TC' cargada exitosamente con 3898 filas.\n",
      "✅ Hoja 'CanalesPerson' cargada exitosamente con 13326 filas.\n",
      "✅ Hoja 'Inhab' cargada exitosamente con 7478 filas.\n"
     ]
    }
   ],
   "source": [
    "# Cargar cada hoja transformada como tabla\n",
    "for nombre_tabla, df in datoslimpios.items():\n",
    "    try:\n",
    "        logger.info(f\"Iniciando carga de hoja: {nombre_tabla}\")\n",
    "\n",
    "        # Eliminar filas completamente vacías\n",
    "        df = df.dropna(how='all')\n",
    "        # Agregar columna de fecha y hora de carga\n",
    "        df['fecha_carga'] = datetime.now()\n",
    "\n",
    "        # Insertar usando pandas y SQLAlchemy\n",
    "        df.to_sql(name=nombre_tabla, con=engine, if_exists='replace', index=False)\n",
    "\n",
    "        logger.info(f\"Hoja '{nombre_tabla}' cargada exitosamente con {len(df)} filas.\")\n",
    "        print(f\"✅ Hoja '{nombre_tabla}' cargada exitosamente con {len(df)} filas.\")\n",
    "\n",
    "    except Exception as e:\n",
    "        logger.error(f\"Error al cargar hoja '{nombre_tabla}': {e}\")\n",
    "        print(f\"❌ Error al cargar hoja '{nombre_tabla}': {e}\")"
   ]
  },
  {
   "cell_type": "markdown",
   "id": "8c12a220",
   "metadata": {},
   "source": [
    "Leer por nombre de tabla (si el Excel tiene tablas definidas)\n"
   ]
  },
  {
   "cell_type": "code",
   "execution_count": null,
   "id": "0e4bb320",
   "metadata": {},
   "outputs": [],
   "source": [
    "# ## conexion a la Base datos SQL Server v2022\n",
    "# path = 'C:/Users/rfigu/Documents/Python Scripts/BoletinBCP/Dimensiones y referencias.xlsx'\n",
    "\n",
    "\n",
    "# dfDepara = pd.read_excel(path, sheet_name=\"entidad\")\n",
    "# logger.info(f\"Archivo cargado con {len(dfDepara)} registros\")\n",
    "\n",
    "# dfDepara.head()"
   ]
  },
  {
   "cell_type": "code",
   "execution_count": null,
   "id": "f1727672",
   "metadata": {},
   "outputs": [],
   "source": [
    "# dfDepara.to_sql(name='DeParabanco', con=conexion_str, if_exists='replace',index=False)"
   ]
  }
 ],
 "metadata": {
  "kernelspec": {
   "display_name": "Python 3",
   "language": "python",
   "name": "python3"
  },
  "language_info": {
   "codemirror_mode": {
    "name": "ipython",
    "version": 3
   },
   "file_extension": ".py",
   "mimetype": "text/x-python",
   "name": "python",
   "nbconvert_exporter": "python",
   "pygments_lexer": "ipython3",
   "version": "3.11.2"
  }
 },
 "nbformat": 4,
 "nbformat_minor": 5
}
