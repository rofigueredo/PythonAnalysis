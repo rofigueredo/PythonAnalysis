{
 "cells": [
  {
   "cell_type": "markdown",
   "id": "98cabcd0",
   "metadata": {},
   "source": [
    "## Saldo y cantidad de tarjetas en el sistema financiero.\n",
    "Fuente: https://www.bcp.gov.py/web/institucional/boletines-estad%C3%ADstico-financieros-"
   ]
  },
  {
   "cell_type": "code",
   "execution_count": null,
   "id": "1aa669a4",
   "metadata": {},
   "outputs": [],
   "source": [
    "## Proceso par al carga de Market share de Tarjetas BCP\n",
    "# Configuración logging\n",
    "# Primero, configuramos el logger al inicio del script:\n",
    "import os\n",
    "import logging\n",
    "import pandas as pd\n",
    "from sqlalchemy import create_engine\n",
    "from datetime import datetime\n",
    "import logging\n",
    "import pyodbc\n",
    "\n",
    "# Obtener la ruta actual\n",
    "ruta_actual = os.getcwd()\n",
    "# Configurar logging\n",
    "logging.basicConfig(\n",
    "    filename=f'{ruta_actual}/etl_proceso.log',       # Archivo de log\n",
    "    level=logging.INFO,               # Nivel de log: DEBUG, INFO, WARNING, ERROR, CRITICAL\n",
    "    format='%(asctime)s - %(levelname)s - %(message)s',\n",
    "    filemode='w'                      # 'w' sobrescribe cada vez, 'a' acumula\n",
    ")\n",
    "\n",
    "logger = logging.getLogger()\n",
    "print('Se inicializa parametros')"
   ]
  },
  {
   "cell_type": "code",
   "execution_count": null,
   "id": "09a5c4ed",
   "metadata": {},
   "outputs": [],
   "source": [
    "## ruta del archivo\n",
    "excel_file = 'C:/Users/rfigu/Documents/Python Scripts/BoletinBCP/Tablas_Boletin_Bancos_Jul25.xlsx'\n",
    "\n",
    "def extraer_excel(excel_file):\n",
    "    try:\n",
    "        logger.info(f\"Iniciando extracción desde: {excel_file}\")\n",
    "        sheets_dict = pd.read_excel(excel_file, sheet_name=None)\n",
    "        # Acceder a cada hoja como DataFrame\n",
    "        for sheet_name, df in sheets_dict.items():\n",
    "            print(f\"Hoja: {sheet_name}, Filas: {len(df)}\")\n",
    "        # logger.info(f\"Iniciando extracción desde: {excel_file}\")\n",
    "        # sheets_dict = pd.read_excel(excel_file, sheet_name=None)\n",
    "        # # Acceder a cada hoja como DataFrame\n",
    "        # for sheet_name, df in sheets_dict.items():\n",
    "        #     print(f\"Hoja: {sheet_name}, Filas: {len(df)}\")\n",
    "        #     logger.info(f\"Hoja: {sheet_name}, Filas: {len(df)}\")\n",
    "        return sheets_dict\n",
    "    except Exception as e:\n",
    "        logger.error(f\"Error en la extracción: {e}\")\n",
    "        raise"
   ]
  },
  {
   "cell_type": "code",
   "execution_count": null,
   "id": "f8155844",
   "metadata": {},
   "outputs": [],
   "source": [
    "# Obtener ruta actual\n",
    "ruta_actual = os.getcwd()\n",
    "logger.info(f\"Ruta actual de ejecución: {ruta_actual}\")\n",
    "\n",
    "# Ruta del archivo Excel\n",
    "excel_file = 'C:/Users/rfigu/Documents/Python Scripts/BoletinBCP/Tablas_Boletin_Bancos_Jul25.xlsx'\n",
    "\n",
    "# Extracción de hojas\n",
    "try:\n",
    "    logger.info(f\"Iniciando lectura del archivo Excel: {excel_file}\")\n",
    "    sheets_dict = pd.read_excel(excel_file, sheet_name=None)\n",
    "    logger.info(f\"Lectura exitosa. Hojas encontradas: {list(sheets_dict.keys())}\")\n",
    "    \n",
    "    # Acceder a cada hoja como DataFrame\n",
    "    for sheet_name, df in sheets_dict.items():\n",
    "        logger.info(f\"Hoja: {sheet_name}, Filas: {len(df)}\")\n",
    "        print(f\"Hoja: {sheet_name}, Filas: {len(df)}\")\n",
    "\n",
    "except Exception as e:\n",
    "    logger.error(f\"Error al leer el archivo Excel: {e}\")\n",
    "    print(f\"Error: {e}\")"
   ]
  },
  {
   "cell_type": "code",
   "execution_count": null,
   "id": "755bc612",
   "metadata": {},
   "outputs": [],
   "source": [
    "## Vista previa de los datos la hoja\n",
    "sheets_dict.get('Carteras').head()"
   ]
  },
  {
   "cell_type": "code",
   "execution_count": null,
   "id": "aa84a367",
   "metadata": {},
   "outputs": [],
   "source": [
    "## version  sin Looger\n",
    "def transforBol(df):\n",
    "    # Eliminar filas vacías\n",
    "    df = df.dropna(how='all')\n",
    "    \n",
    "    # Renombrar columnas\n",
    "    df.columns = [col.strip().lower().replace(' ', '_') for col in df.columns]\n",
    "    \n",
    "    # Convertir fechas\n",
    "    if 'fecha' in df.columns:\n",
    "        df['fecha'] = pd.to_datetime(df['fecha'], errors='coerce')\n",
    "    \n",
    "    return df\n",
    "\n",
    "# Aplicar transformación a cada hoja\n",
    "datos_transformados = {sheet: transforBol(df) for sheet, df in sheets_dict.items()}"
   ]
  },
  {
   "cell_type": "code",
   "execution_count": null,
   "id": "08e6c4c9",
   "metadata": {},
   "outputs": [],
   "source": [
    "datos_transformados.get('Credito Sector').head(3)"
   ]
  },
  {
   "cell_type": "code",
   "execution_count": null,
   "id": "5106e525",
   "metadata": {},
   "outputs": [],
   "source": [
    "# Parámetros de conexión\n",
    "server = 'ASUSTUF\\SQL22'  # Doble barra para escapar correctamente\n",
    "database = 'BolBcp'\n",
    "\n",
    "try:\n",
    "    logger.info(f\"Intentando conectar a SQL Server: {server}, Base de datos: {database}\")\n",
    "    \n",
    "    connP = pyodbc.connect(\n",
    "        'DRIVER={ODBC Driver 17 for SQL Server};'\n",
    "        f'SERVER={server};'\n",
    "        f'DATABASE={database};'\n",
    "        'Trusted_Connection=yes;'\n",
    "    )\n",
    "    \n",
    "    logger.info(\"Conexión a SQL Server establecida exitosamente.\")\n",
    "    print('Conexión exitosa')\n",
    "\n",
    "except pyodbc.Error as e:\n",
    "    logger.error(f\"Error al conectar a la base de datos: {str(e)}\")\n",
    "    print(f'Error al conectar a la base de datos: {str(e)}')"
   ]
  },
  {
   "cell_type": "code",
   "execution_count": null,
   "id": "a3266a72",
   "metadata": {},
   "outputs": [],
   "source": [
    "# Cargar cada hoja transformada como tabla\n",
    "for nombre_tabla, df in datos_transformados.items():\n",
    "    try:\n",
    "        logger.info(f\"Iniciando carga de hoja: {nombre_tabla}\")\n",
    "\n",
    "        # Eliminar filas completamente vacías\n",
    "        df = df.dropna(how='all')\n",
    "        # Agregar columna de fecha y hora de carga\n",
    "        df['fecha_carga'] = datetime.now()\n",
    "\n",
    "        # Insertar usando pandas\n",
    "        df.to_sql(name=nombre_tabla, con=engine, if_exists='replace', index=False)\n",
    "\n",
    "        logger.info(f\"Hoja '{nombre_tabla}' cargada exitosamente con {len(df)} filas.\")\n",
    "        print(f\"✅ Hoja '{nombre_tabla}' cargada exitosamente con {len(df)} filas.\")\n",
    "\n",
    "    except Exception as e:\n",
    "        logger.error(f\"Error al cargar hoja '{nombre_tabla}': {e}\")\n",
    "        print(f\"❌ Error al cargar hoja '{nombre_tabla}': {e}\")"
   ]
  }
 ],
 "metadata": {
  "language_info": {
   "name": "python"
  }
 },
 "nbformat": 4,
 "nbformat_minor": 5
}
