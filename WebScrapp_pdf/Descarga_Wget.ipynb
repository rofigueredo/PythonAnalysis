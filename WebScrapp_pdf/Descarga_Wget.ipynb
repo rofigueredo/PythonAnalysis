{
 "cells": [
  {
   "cell_type": "markdown",
   "metadata": {},
   "source": [
    "### Optener origen de datos del proyecto"
   ]
  },
  {
   "cell_type": "code",
   "execution_count": null,
   "metadata": {},
   "outputs": [],
   "source": [
    "# Import the libraries\n",
    "\n",
    "import pandas\n",
    "import wget\n",
    "import os"
   ]
  },
  {
   "cell_type": "code",
   "execution_count": null,
   "metadata": {},
   "outputs": [],
   "source": [
    "# Obtener el directorio del Proyecto\n",
    "root_dir = os.getcwd()\n",
    "print('Directorio principal: '+ root_dir)"
   ]
  },
  {
   "cell_type": "markdown",
   "metadata": {},
   "source": [
    "### Bloque web Scrapping"
   ]
  },
  {
   "cell_type": "code",
   "execution_count": null,
   "metadata": {},
   "outputs": [],
   "source": [
    "import requests\n",
    "from bs4 import BeautifulSoup\n",
    "import os\n",
    "\n",
    "url = 'https://www.sample.com.py/ruta_pagina_web_donde_se_encuentra_lo_pdf'\n",
    "response = requests.get(url, headers={'User-Agent': 'Mozilla/5.0'})\n",
    "soup = BeautifulSoup(response.text, 'html.parser')\n",
    "\n",
    "pdf_links = []\n",
    "for link in soup.find_all('a'):\n",
    "    href = link.get('href')\n",
    "    # Archivos pdf\n",
    "    if href.endswith('.pdf'):\n",
    "        #Solo los datos de Bancos\n",
    "        if href.startswith('userfiles/file'):\n",
    "            # Se le complementa el link\n",
    "            urlsfile = f'https://www.bcp.gov.py/{href}'\n",
    "            # Se toma el nombre del propio archivo pdf, que esta leyendo actualmente\n",
    "            fileName = (href[href.find(\"B\"):len(href)])\n",
    "            pdf_links.append(urlsfile)\n",
    "\n",
    "            # Bloque descarga\n",
    "            response = requests.get(urlsfile, headers={'User-Agent': 'Mozilla/5.0'})\n",
    "\n",
    "            with open(fileName, 'wb') as f:\n",
    "                f.write(response.content)\n",
    "            \n",
    "            print('Se decargó '+fileName)\n"
   ]
  }
 ],
 "metadata": {
  "kernelspec": {
   "display_name": "Python 3",
   "language": "python",
   "name": "python3"
  },
  "language_info": {
   "codemirror_mode": {
    "name": "ipython",
    "version": 3
   },
   "file_extension": ".py",
   "mimetype": "text/x-python",
   "name": "python",
   "nbconvert_exporter": "python",
   "pygments_lexer": "ipython3",
   "version": "3.10.12"
  }
 },
 "nbformat": 4,
 "nbformat_minor": 2
}
