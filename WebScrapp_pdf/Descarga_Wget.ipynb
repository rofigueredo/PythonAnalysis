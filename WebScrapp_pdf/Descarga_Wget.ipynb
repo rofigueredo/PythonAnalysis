{
 "cells": [
  {
   "cell_type": "markdown",
   "metadata": {},
   "source": [
    "### Web Scraping con Python\n",
    "Si deseas aprender a hacer web scraping con Python utilizando Beautiful Soup, sigue estos pasos:"
   ]
  },
  {
   "cell_type": "code",
   "execution_count": null,
   "metadata": {},
   "outputs": [],
   "source": [
    "import pandas\n",
    "import wget\n",
    "import os\n",
    "import requests\n",
    "from bs4 import BeautifulSoup\n",
    "import os"
   ]
  },
  {
   "cell_type": "code",
   "execution_count": null,
   "metadata": {},
   "outputs": [],
   "source": [
    "# Obtener el directorio del Proyecto\n",
    "root_dir = os.getcwd()\n",
    "print('Directorio principal: '+ root_dir)"
   ]
  },
  {
   "cell_type": "code",
   "execution_count": null,
   "metadata": {},
   "outputs": [],
   "source": [
    "## Url del sitio a descargar la base\n",
    "\n",
    "url = 'https://www.wesite.sample.py/resumen-mensual-tasas'\n",
    "response = requests.get(url, headers={'User-Agent': 'Mozilla/5.0'})\n",
    "soup = BeautifulSoup(response.text, 'html.parser')"
   ]
  },
  {
   "cell_type": "code",
   "execution_count": null,
   "metadata": {},
   "outputs": [],
   "source": [
    "# Se crea una lista Vacía para guardar todos los archivos\n",
    "pdf_links = []\n",
    "for link in soup.find_all('a'):\n",
    "    href = link.get('href')\n",
    "    # Archivos pdf\n",
    "    if href.endswith('.pdf'):\n",
    "        #Solo los datos de Bancos\n",
    "        if href.startswith('userfiles/files/BANCO'):\n",
    "            # Se le complementa el link\n",
    "            urlsfile = f'https://www.wesite.sample/{href}'\n",
    "            # Se toma el nombre del propio archivo pdf, que esta leyendo actualmente\n",
    "            fileName = (href[href.find(\"B\"):len(href)])\n",
    "            pdf_links.append(urlsfile)\n",
    "\n",
    "            # Bloque descarga\n",
    "            response = requests.get(urlsfile, headers={'User-Agent': 'Mozilla/5.0'})\n",
    "\n",
    "            with open(fileName, 'wb') as f:\n",
    "                f.write(response.content)\n",
    "            \n",
    "            print('Se decargó: '+fileName)\n"
   ]
  },
  {
   "cell_type": "code",
   "execution_count": null,
   "metadata": {},
   "outputs": [],
   "source": [
    "import requests\n",
    "from bs4 import BeautifulSoup\n",
    "import urllib.request\n",
    "import os\n",
    "\n",
    "url = 'https://www.sample.gov/resumen-mensual-tasas'\n",
    "req = urllib.request.Request(url, headers={'User-Agent': 'Mozilla/5.0'})\n",
    "response = urllib.request.urlopen(req)\n",
    "\n",
    "pdf_links = []\n",
    "for link in soup.find_all('a'):\n",
    "    href = link.get('href')\n",
    "    if href.endswith('.pdf'):\n",
    "        if href.startswith('userfiles/files/BANCO'):\n",
    "            fileName = (href[href.find(\"B\"):len(href)])\n",
    "            print(fileName)"
   ]
  },
  {
   "cell_type": "code",
   "execution_count": null,
   "metadata": {},
   "outputs": [],
   "source": [
    "# import requests\n",
    "\n",
    "# url = 'https://www.bcp.gov.py/userfiles/files/BANCOS012024.pdf'\n",
    "# headers = {'Referer': 'https://www.example.com'}\n",
    "# response = requests.get(url, headers=headers)\n",
    "\n",
    "# with open('example.pdf', 'wb') as f:\n",
    "#     f.write(response.content)"
   ]
  }
 ],
 "metadata": {
  "kernelspec": {
   "display_name": "Python 3",
   "language": "python",
   "name": "python3"
  },
  "language_info": {
   "codemirror_mode": {
    "name": "ipython",
    "version": 3
   },
   "file_extension": ".py",
   "mimetype": "text/x-python",
   "name": "python",
   "nbconvert_exporter": "python",
   "pygments_lexer": "ipython3",
   "version": "3.10.12"
  }
 },
 "nbformat": 4,
 "nbformat_minor": 2
}
