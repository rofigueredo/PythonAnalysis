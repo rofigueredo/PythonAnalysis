{
 "cells": [
  {
   "cell_type": "markdown",
   "metadata": {},
   "source": [
    "### Transformaciones de datos"
   ]
  },
  {
   "cell_type": "code",
   "execution_count": null,
   "metadata": {},
   "outputs": [],
   "source": [
    "# Import libreries\n",
    "import pandas as pd\n",
    "from pdfquery import PDFQuery\n",
    "import os"
   ]
  },
  {
   "cell_type": "code",
   "execution_count": null,
   "metadata": {},
   "outputs": [],
   "source": [
    "# Ruta directorio\n",
    "root_dir = os.getcwd()\n",
    "print(root_dir)"
   ]
  },
  {
   "cell_type": "code",
   "execution_count": null,
   "metadata": {},
   "outputs": [],
   "source": [
    "# Lectura para obtener la fecha cierre del Resumen\n",
    "\n",
    "pdf = PDFQuery('descargas\\BANCOS012024.pdf')\n",
    "pdf.load()\n",
    "elementos_texto = pdf.pq('LTTextLineHorizontal')\n",
    "texto = [t.text for t in elementos_texto]"
   ]
  },
  {
   "cell_type": "code",
   "execution_count": null,
   "metadata": {},
   "outputs": [],
   "source": [
    "# Extraer fecha de cierre del pdf\n",
    "pdf.load()\n",
    "ele_texto = pdf.pq('LTTextLineHorizontal:contains(\"RESUMEN DE TASAS\")')\n",
    "textoTit = [t.text for t in ele_texto]\n",
    "\n",
    "ini = str(textoTit).find(\"MES:\")\n",
    "fin = len(str(textoTit[1]))\n",
    "cadenaFch = str(textoTit[1])\n",
    "\n",
    "print(cadenaFch[ini+3:fin-1])"
   ]
  },
  {
   "cell_type": "code",
   "execution_count": null,
   "metadata": {},
   "outputs": [],
   "source": [
    "import pdfplumber\n",
    "import numpy as np\n",
    "\n",
    "with pdfplumber.open('descargas\\BANCOS012024.pdf') as pdf:\n",
    "    first_page = pdf.pages[0]\n",
    "    datatable = first_page.extract_tables()\n",
    "    df_l = pd.DataFrame(datatable)\n",
    "\n",
    "df_l"
   ]
  },
  {
   "cell_type": "code",
   "execution_count": null,
   "metadata": {},
   "outputs": [],
   "source": [
    "# Definimos las Columnas de la pagina 1 del pdf Resumen de Tasas\n",
    "colPag1= ['Banco', 'Tasa', 'TC_ML_Nominal', 'TC_ML_Efectiva', 'TC_ME_Nominal', 'TC_ME_Efectiva', 'Micro_ML_Nominal'\n",
    "         ,'Micro_ML_Efectiva','Micro_ME_Nominal','Micro_ME_Efectiva','VivAFD_ML_Nominal','VivAFD_ML_Efectiva','VivAFD_ME_Nominal','VivAFD_ME_Efectiva'\n",
    "         ,'VivPro_ML_Nominal','VivPro_ML_Efectiva','VivPro_ME_Nominal','VivPro_ME_Efectiva']"
   ]
  },
  {
   "cell_type": "code",
   "execution_count": null,
   "metadata": {},
   "outputs": [],
   "source": [
    "# Creamos un arrays de listas\n",
    "headers = df_l.iloc[0].values\n",
    "headers"
   ]
  },
  {
   "cell_type": "code",
   "execution_count": null,
   "metadata": {},
   "outputs": [],
   "source": [
    "# Transformamos el vector en lista\n",
    "lstHeaders = list(headers)\n",
    "df_tasas1 = pd.DataFrame(lstHeaders,\n",
    "                  columns=colPag1)\n",
    "\n",
    "df_tasas1.head()"
   ]
  },
  {
   "cell_type": "code",
   "execution_count": null,
   "metadata": {},
   "outputs": [],
   "source": [
    "# Eliminar primeras filas\n",
    "df_tasas1.drop(df_tasas1.index[0:4], inplace=True)\n",
    "\n",
    "print('Filas, Col: '+str(df_tasas1.shape))\n",
    "df_tasas1.head()"
   ]
  },
  {
   "cell_type": "code",
   "execution_count": null,
   "metadata": {},
   "outputs": [],
   "source": [
    "df_tasas1.reset_index(drop=True, inplace=True)\n",
    "df_tasas1.head()"
   ]
  },
  {
   "cell_type": "code",
   "execution_count": null,
   "metadata": {},
   "outputs": [],
   "source": [
    "type(headers)\n"
   ]
  }
 ],
 "metadata": {
  "kernelspec": {
   "display_name": "Python 3",
   "language": "python",
   "name": "python3"
  },
  "language_info": {
   "codemirror_mode": {
    "name": "ipython",
    "version": 3
   },
   "file_extension": ".py",
   "mimetype": "text/x-python",
   "name": "python",
   "nbconvert_exporter": "python",
   "pygments_lexer": "ipython3",
   "version": "3.11.2"
  }
 },
 "nbformat": 4,
 "nbformat_minor": 2
}
