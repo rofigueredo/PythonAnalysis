{
 "cells": [
  {
   "cell_type": "markdown",
   "metadata": {},
   "source": [
    "### Transformaciones de datos"
   ]
  },
  {
   "cell_type": "code",
   "execution_count": 1,
   "metadata": {},
   "outputs": [],
   "source": [
    "import pandas as pd\n",
    "from pdfquery import PDFQuery\n",
    "import os"
   ]
  },
  {
   "cell_type": "code",
   "execution_count": 2,
   "metadata": {},
   "outputs": [
    {
     "name": "stdout",
     "output_type": "stream",
     "text": [
      "c:\\Users\\rfigu\\Documents\\Python Scripts\\WebScrapp_pdf\n"
     ]
    }
   ],
   "source": [
    "root_dir = os.getcwd()\n",
    "print(root_dir)"
   ]
  },
  {
   "cell_type": "code",
   "execution_count": 3,
   "metadata": {},
   "outputs": [],
   "source": [
    "# Lectura para obtener la fecha cierre del Resumen\n",
    "\n",
    "pdf = PDFQuery('descargas\\BANCOS012024.pdf')\n",
    "pdf.load()\n",
    "elementos_texto = pdf.pq('LTTextLineHorizontal')\n",
    "texto = [t.text for t in elementos_texto]"
   ]
  },
  {
   "cell_type": "code",
   "execution_count": 5,
   "metadata": {},
   "outputs": [],
   "source": [
    "pdf.load()\n",
    "ele_texto = pdf.pq('LTTextLineHorizontal:contains(\"RESUMEN DE TASAS\")')\n",
    "textoTit = [t.text for t in ele_texto]"
   ]
  },
  {
   "cell_type": "code",
   "execution_count": 6,
   "metadata": {},
   "outputs": [
    {
     "name": "stdout",
     "output_type": "stream",
     "text": [
      "Enero/2024\n"
     ]
    }
   ],
   "source": [
    "# Extraer fecha de cierre del pdf\n",
    "ini = str(textoTit).find(\"MES:\")\n",
    "fin = len(str(textoTit[1]))\n",
    "cadenaString = str(textoTit[1])\n",
    "\n",
    "print(cadenaString[ini+3:fin-1])"
   ]
  },
  {
   "cell_type": "code",
   "execution_count": 7,
   "metadata": {},
   "outputs": [
    {
     "data": {
      "text/plain": [
       "'RESUMEN DE TASAS REFERENCIALES - MES: Enero/2024\\nInformacion remitida por las Entidades Bancarias (Circular SB.SG.N° 379/2011 de fecha 11/07/2011)\\nTASAS DE INTERES ACTIVAS\\nTARJETA DE CRÉDITO MICROCRÉDITOS <= 1AÑO VIVIENDA (fondos AFD) > 1AÑO VIVIENDA (fondos propios) > 1AÑO\\nBANCO Tasa\\nM/L M/E M/L M/E M/L M/E M/L M/E\\nNominal Efectiva Nominal Efectiva Nominal Efectiva Nominal Efectiva Nominal Efectiva Nominal Efectiva Nominal Efectiva Nominal Efectiva\\nMínima 1 4,00 1 4,94 - - 9 ,00 9 ,31 6 ,00 6 ,17 7 ,90 8 ,19 - - 7 ,95 8 ,25 - -\\nBanco Nacional de Fomento\\nMáxima 1 4,00 1 4,94 - - 1 2,00 1 2,55 8 ,75 9 ,11 1 1,40 1 2,02 - - 1 1,00 1 1,57 - -\\nMínima - - - - - - - - - - - - - - - -\\nBanco de la Nación Argentina\\nMáxima - - - - - - - - - - - - - - - -\\nMínima 1 5,65 1 6,93 - - - - - - 6 ,90 7 ,12 - - 1 5,00 1 6,07 - -\\nBanco GNB Paraguay S.A.\\nMáxima 1 5,65 1 6,93 - - - - - - 1 0,25 1 0,75 - - 1 8,00 1 9,56 - -\\nMínima - - - - - - - - - - - - - - - -\\nBanco Do Brasil S.A.\\nMáxima - - - - - - - - - - - - - - - -\\nMínima - - - - - - - - - - - - - - - -\\nCitibank N.A.\\nMáxima - - - - - - - - - - - - - - - -\\nMínima 1 5,65 1 6,82 - - - - - - 7 ,90 8 ,19 7 ,50 7 ,76 1 0,90 1 1,46 7 ,50 7 ,76\\nSudameris Bank S.A.E.C.A.\\nMáxima 1 5,65 1 6,82 - - - - - - 1 3,00 1 3,80 9 ,50 9 ,93 1 8,00 1 9,56 1 0,15 1 0,64\\nMínima 1 5,70 1 6,88 - - - - - - 6 ,90 7 ,12 5 ,50 5 ,64 1 0,00 1 0,47 5 ,50 5 ,64\\nBanco Itaú Paraguay S.A.\\nMáxima 1 5,70 1 6,88 - - - - - - 1 1,50 1 2,13 9 ,00 9 ,38 2 0,00 2 1,94 1 0,00 1 0,47\\nMínima 1 5,60 1 6,88 - - 1 5,00 1 6,08 1 0,00 1 0,47 7 ,50 7 ,76 - - 1 2,00 1 2,68 - -\\nBanco Continental S.A.E.C.A.\\nMáxima 1 5,60 1 6,88 - - 2 5,00 2 8,08 1 0,24 1 0,74 1 3,00 1 3,80 - - 1 8,00 1 9,56 - -\\nMínima 1 5,63 1 6,80 - - 1 5,00 1 6,08 9 ,00 9 ,38 6 ,90 7 ,12 - - 1 4,00 1 4,93 9 ,00 9 ,38\\nBanco BASA S.A.\\nMáxima 1 5,63 1 6,80 - - 2 6,27 2 9,68 1 0,20 1 0,69 1 2,25 1 2,96 - - 1 6,00 1 7,23 1 0,20 1 0,69\\nMínima 1 5,70 1 6,88 - - 2 0,00 2 8,08 8 ,00 8 ,76 6 ,90 8 ,22 - - 1 4,00 1 5,77 7 ,00 7 ,74\\nVisión Banco S.A.E.C.A.\\nMáxima 1 5,70 1 6,88 - - 2 6,00 2 9,53 9 ,80 1 0,49 1 4,00 1 6,08 - - 2 0,00 2 1,93 9 ,80 1 0,49\\nMínima 1 5,74 1 6,93 - - 1 9,75 2 1,64 7 ,75 8 ,03 1 0,00 1 0,47 7 ,00 7 ,23 2 3,75 2 6,51 1 0,24 1 0,74\\nBanco Rio S.A.E.C.A.\\nMáxima 1 6,27 1 6,93 - - 2 6,32 2 9,74 1 0,24 1 0,74 1 5,00 1 6,08 1 0,24 1 0,74 2 6,32 2 9,74 1 0,24 1 0,74\\nMínima 1 5,70 1 6,93 - - 2 4,00 2 6,83 - - 8 ,75 9 ,11 - - 1 2,00 1 2,68 6 ,00 6 ,17\\nBanco Familiar S.A.E.C.A.\\nMáxima 1 5,70 1 6,93 - - 2 6,30 2 9,74 - - 9 ,50 9 ,93 - - 1 8,00 1 9,56 1 0,20 1 0,74\\nMínima 1 1,88 1 2,56 3 ,97 4 ,04 1 6,22 1 7,48 8 ,00 8 ,30 7 ,90 8 ,19 - - 8 ,36 8 ,69 - -\\nBanco Atlas S.A.\\nMáxima 1 5,78 1 6,91 9 ,98 1 0,42 2 6,39 2 9,72 1 0,16 1 0,72 1 1,35 1 1,96 - - 1 5,41 1 6,55 - -\\nMínima 1 5,72 1 6,90 - - 1 6,50 1 7,81 1 0,16 1 0,65 7 ,90 8 ,19 - - 1 2,90 1 3,69 - -\\nBancop S.A.\\nMáxima 1 5,72 1 6,90 - - 2 6,29 2 9,70 1 0,23 1 0,72 1 0,75 1 1,30 - - 1 3,90 1 4,82 - -\\nMínima 1 0,00 1 0,47 - - 1 8,00 1 9,56 - - 7 ,90 8 ,19 - - - - - -\\nInterfisa Banco SAECA\\nMáxima 1 5,74 1 6,93 - - 2 6,32 2 9,74 - - 1 0,90 1 1,46 - - - - - -\\nMínima 1 5,73 1 6,91 - - 2 6,30 2 9,72 - - 7 ,90 8 ,19 - - 2 2,00 2 4,36 - -\\nBanco Solar SAE\\nMáxima 1 5,75 1 6,93 - - 2 6,32 2 9,74 - - 1 0,90 1 1,46 - - 2 6,32 2 9,74 - -\\n© BANCO CENTRAL DEL PARAGUAY. ALGUNOS DERECHOS RESERVADOS Y PRECAUTELADOS POR EL ARTÍCULO 40 DE LA LEY Nº 1328/98\\nFEDERACIÓN RUSA Y CABO 1º MARECOS – ASUNCIÓN/PARAGUAY\\nTELÉFONO: (+595 21) 608 011 (CENTRAL TELEFÓNICA)\\nE-MAIL: INFO@BCP.GOV.'"
      ]
     },
     "execution_count": 7,
     "metadata": {},
     "output_type": "execute_result"
    }
   ],
   "source": [
    "import pdfplumber\n",
    "\n",
    "with pdfplumber.open('descargas\\BANCOS012024.pdf') as pdf:\n",
    "    first_page = pdf.pages[0]\n",
    "    text = first_page.extract_text()\n",
    "\n",
    "text"
   ]
  },
  {
   "cell_type": "code",
   "execution_count": 8,
   "metadata": {},
   "outputs": [
    {
     "data": {
      "text/html": [
       "<div>\n",
       "<style scoped>\n",
       "    .dataframe tbody tr th:only-of-type {\n",
       "        vertical-align: middle;\n",
       "    }\n",
       "\n",
       "    .dataframe tbody tr th {\n",
       "        vertical-align: top;\n",
       "    }\n",
       "\n",
       "    .dataframe thead th {\n",
       "        text-align: right;\n",
       "    }\n",
       "</style>\n",
       "<table border=\"1\" class=\"dataframe\">\n",
       "  <thead>\n",
       "    <tr style=\"text-align: right;\">\n",
       "      <th></th>\n",
       "      <th>0</th>\n",
       "      <th>1</th>\n",
       "      <th>2</th>\n",
       "      <th>3</th>\n",
       "      <th>4</th>\n",
       "      <th>5</th>\n",
       "      <th>6</th>\n",
       "      <th>7</th>\n",
       "      <th>8</th>\n",
       "      <th>9</th>\n",
       "      <th>...</th>\n",
       "      <th>26</th>\n",
       "      <th>27</th>\n",
       "      <th>28</th>\n",
       "      <th>29</th>\n",
       "      <th>30</th>\n",
       "      <th>31</th>\n",
       "      <th>32</th>\n",
       "      <th>33</th>\n",
       "      <th>34</th>\n",
       "      <th>35</th>\n",
       "    </tr>\n",
       "  </thead>\n",
       "  <tbody>\n",
       "    <tr>\n",
       "      <th>0</th>\n",
       "      <td>[, , TASAS DE INTERES ACTIVAS, None, None, Non...</td>\n",
       "      <td>[BANCO, Tasa, TARJETA DE CRÉDITO, None, None, ...</td>\n",
       "      <td>[None, None, M/L, None, M/E, None, M/L, None, ...</td>\n",
       "      <td>[None, None, Nominal, Efectiva, Nominal, Efect...</td>\n",
       "      <td>[Banco Nacional de Fomento, Mínima, 1 4,00, 1 ...</td>\n",
       "      <td>[None, Máxima, 1 4,00, 1 4,94, -, -, 1 2,00, 1...</td>\n",
       "      <td>[Banco de la Nación Argentina, Mínima, -, -, -...</td>\n",
       "      <td>[None, Máxima, -, -, -, -, -, -, -, -, -, -, -...</td>\n",
       "      <td>[Banco GNB Paraguay S.A., Mínima, 1 5,65, 1 6,...</td>\n",
       "      <td>[None, Máxima, 1 5,65, 1 6,93, -, -, -, -, -, ...</td>\n",
       "      <td>...</td>\n",
       "      <td>[Banco Familiar S.A.E.C.A., Mínima, 1 5,70, 1 ...</td>\n",
       "      <td>[None, Máxima, 1 5,70, 1 6,93, -, -, 2 6,30, 2...</td>\n",
       "      <td>[Banco Atlas S.A., Mínima, 1 1,88, 1 2,56, 3 ,...</td>\n",
       "      <td>[None, Máxima, 1 5,78, 1 6,91, 9 ,98, 1 0,42, ...</td>\n",
       "      <td>[Bancop S.A., Mínima, 1 5,72, 1 6,90, -, -, 1 ...</td>\n",
       "      <td>[None, Máxima, 1 5,72, 1 6,90, -, -, 2 6,29, 2...</td>\n",
       "      <td>[Interfisa Banco SAECA, Mínima, 1 0,00, 1 0,47...</td>\n",
       "      <td>[None, Máxima, 1 5,74, 1 6,93, -, -, 2 6,32, 2...</td>\n",
       "      <td>[Banco Solar SAE, Mínima, 1 5,73, 1 6,91, -, -...</td>\n",
       "      <td>[None, Máxima, 1 5,75, 1 6,93, -, -, 2 6,32, 2...</td>\n",
       "    </tr>\n",
       "  </tbody>\n",
       "</table>\n",
       "<p>1 rows × 36 columns</p>\n",
       "</div>"
      ],
      "text/plain": [
       "                                                  0   \\\n",
       "0  [, , TASAS DE INTERES ACTIVAS, None, None, Non...   \n",
       "\n",
       "                                                  1   \\\n",
       "0  [BANCO, Tasa, TARJETA DE CRÉDITO, None, None, ...   \n",
       "\n",
       "                                                  2   \\\n",
       "0  [None, None, M/L, None, M/E, None, M/L, None, ...   \n",
       "\n",
       "                                                  3   \\\n",
       "0  [None, None, Nominal, Efectiva, Nominal, Efect...   \n",
       "\n",
       "                                                  4   \\\n",
       "0  [Banco Nacional de Fomento, Mínima, 1 4,00, 1 ...   \n",
       "\n",
       "                                                  5   \\\n",
       "0  [None, Máxima, 1 4,00, 1 4,94, -, -, 1 2,00, 1...   \n",
       "\n",
       "                                                  6   \\\n",
       "0  [Banco de la Nación Argentina, Mínima, -, -, -...   \n",
       "\n",
       "                                                  7   \\\n",
       "0  [None, Máxima, -, -, -, -, -, -, -, -, -, -, -...   \n",
       "\n",
       "                                                  8   \\\n",
       "0  [Banco GNB Paraguay S.A., Mínima, 1 5,65, 1 6,...   \n",
       "\n",
       "                                                  9   ...  \\\n",
       "0  [None, Máxima, 1 5,65, 1 6,93, -, -, -, -, -, ...  ...   \n",
       "\n",
       "                                                  26  \\\n",
       "0  [Banco Familiar S.A.E.C.A., Mínima, 1 5,70, 1 ...   \n",
       "\n",
       "                                                  27  \\\n",
       "0  [None, Máxima, 1 5,70, 1 6,93, -, -, 2 6,30, 2...   \n",
       "\n",
       "                                                  28  \\\n",
       "0  [Banco Atlas S.A., Mínima, 1 1,88, 1 2,56, 3 ,...   \n",
       "\n",
       "                                                  29  \\\n",
       "0  [None, Máxima, 1 5,78, 1 6,91, 9 ,98, 1 0,42, ...   \n",
       "\n",
       "                                                  30  \\\n",
       "0  [Bancop S.A., Mínima, 1 5,72, 1 6,90, -, -, 1 ...   \n",
       "\n",
       "                                                  31  \\\n",
       "0  [None, Máxima, 1 5,72, 1 6,90, -, -, 2 6,29, 2...   \n",
       "\n",
       "                                                  32  \\\n",
       "0  [Interfisa Banco SAECA, Mínima, 1 0,00, 1 0,47...   \n",
       "\n",
       "                                                  33  \\\n",
       "0  [None, Máxima, 1 5,74, 1 6,93, -, -, 2 6,32, 2...   \n",
       "\n",
       "                                                  34  \\\n",
       "0  [Banco Solar SAE, Mínima, 1 5,73, 1 6,91, -, -...   \n",
       "\n",
       "                                                  35  \n",
       "0  [None, Máxima, 1 5,75, 1 6,93, -, -, 2 6,32, 2...  \n",
       "\n",
       "[1 rows x 36 columns]"
      ]
     },
     "execution_count": 8,
     "metadata": {},
     "output_type": "execute_result"
    }
   ],
   "source": [
    "import pdfplumber\n",
    "import numpy as np\n",
    "\n",
    "with pdfplumber.open('descargas\\BANCOS012024.pdf') as pdf:\n",
    "    first_page = pdf.pages[0]\n",
    "    datatable = first_page.extract_tables()\n",
    "    df_t = pd.DataFrame(datatable)\n",
    "\n",
    "df_t"
   ]
  },
  {
   "cell_type": "code",
   "execution_count": 9,
   "metadata": {},
   "outputs": [
    {
     "name": "stdout",
     "output_type": "stream",
     "text": [
      "[list(['', '', 'TASAS DE INTERES ACTIVAS', None, None, None, None, None, None, None, None, None, None, None, None, None, None, None])\n",
      " list(['BANCO', 'Tasa', 'TARJETA DE CRÉDITO', None, None, None, 'MICROCRÉDITOS <= 1AÑO', None, None, None, 'VIVIENDA (fondos AFD) > 1AÑO', None, None, None, 'VIVIENDA (fondos propios) > 1AÑO', None, None, None])\n",
      " list([None, None, 'M/L', None, 'M/E', None, 'M/L', None, 'M/E', None, 'M/L', None, 'M/E', None, 'M/L', None, 'M/E', None])\n",
      " list([None, None, 'Nominal', 'Efectiva', 'Nominal', 'Efectiva', 'Nominal', 'Efectiva', 'Nominal', 'Efectiva', 'Nominal', 'Efectiva', 'Nominal', 'Efectiva', 'Nominal', 'Efectiva', 'Nominal', 'Efectiva'])\n",
      " list(['Banco Nacional de Fomento', 'Mínima', '1 4,00', '1 4,94', '-', '-', '9 ,00', '9 ,31', '6 ,00', '6 ,17', '7 ,90', '8 ,19', '-', '-', '7 ,95', '8 ,25', '-', '-'])\n",
      " list([None, 'Máxima', '1 4,00', '1 4,94', '-', '-', '1 2,00', '1 2,55', '8 ,75', '9 ,11', '1 1,40', '1 2,02', '-', '-', '1 1,00', '1 1,57', '-', '-'])\n",
      " list(['Banco de la Nación Argentina', 'Mínima', '-', '-', '-', '-', '-', '-', '-', '-', '-', '-', '-', '-', '-', '-', '-', '-'])\n",
      " list([None, 'Máxima', '-', '-', '-', '-', '-', '-', '-', '-', '-', '-', '-', '-', '-', '-', '-', '-'])\n",
      " list(['Banco GNB Paraguay S.A.', 'Mínima', '1 5,65', '1 6,93', '-', '-', '-', '-', '-', '-', '6 ,90', '7 ,12', '-', '-', '1 5,00', '1 6,07', '-', '-'])\n",
      " list([None, 'Máxima', '1 5,65', '1 6,93', '-', '-', '-', '-', '-', '-', '1 0,25', '1 0,75', '-', '-', '1 8,00', '1 9,56', '-', '-'])\n",
      " list(['Banco Do Brasil S.A.', 'Mínima', '-', '-', '-', '-', '-', '-', '-', '-', '-', '-', '-', '-', '-', '-', '-', '-'])\n",
      " list([None, 'Máxima', '-', '-', '-', '-', '-', '-', '-', '-', '-', '-', '-', '-', '-', '-', '-', '-'])\n",
      " list(['Citibank N.A.', 'Mínima', '-', '-', '-', '-', '-', '-', '-', '-', '-', '-', '-', '-', '-', '-', '-', '-'])\n",
      " list([None, 'Máxima', '-', '-', '-', '-', '-', '-', '-', '-', '-', '-', '-', '-', '-', '-', '-', '-'])\n",
      " list(['Sudameris Bank S.A.E.C.A.', 'Mínima', '1 5,65', '1 6,82', '-', '-', '-', '-', '-', '-', '7 ,90', '8 ,19', '7 ,50', '7 ,76', '1 0,90', '1 1,46', '7 ,50', '7 ,76'])\n",
      " list([None, 'Máxima', '1 5,65', '1 6,82', '-', '-', '-', '-', '-', '-', '1 3,00', '1 3,80', '9 ,50', '9 ,93', '1 8,00', '1 9,56', '1 0,15', '1 0,64'])\n",
      " list(['Banco Itaú Paraguay S.A.', 'Mínima', '1 5,70', '1 6,88', '-', '-', '-', '-', '-', '-', '6 ,90', '7 ,12', '5 ,50', '5 ,64', '1 0,00', '1 0,47', '5 ,50', '5 ,64'])\n",
      " list([None, 'Máxima', '1 5,70', '1 6,88', '-', '-', '-', '-', '-', '-', '1 1,50', '1 2,13', '9 ,00', '9 ,38', '2 0,00', '2 1,94', '1 0,00', '1 0,47'])\n",
      " list(['Banco Continental S.A.E.C.A.', 'Mínima', '1 5,60', '1 6,88', '-', '-', '1 5,00', '1 6,08', '1 0,00', '1 0,47', '7 ,50', '7 ,76', '-', '-', '1 2,00', '1 2,68', '-', '-'])\n",
      " list([None, 'Máxima', '1 5,60', '1 6,88', '-', '-', '2 5,00', '2 8,08', '1 0,24', '1 0,74', '1 3,00', '1 3,80', '-', '-', '1 8,00', '1 9,56', '-', '-'])\n",
      " list(['Banco BASA S.A.', 'Mínima', '1 5,63', '1 6,80', '-', '-', '1 5,00', '1 6,08', '9 ,00', '9 ,38', '6 ,90', '7 ,12', '-', '-', '1 4,00', '1 4,93', '9 ,00', '9 ,38'])\n",
      " list([None, 'Máxima', '1 5,63', '1 6,80', '-', '-', '2 6,27', '2 9,68', '1 0,20', '1 0,69', '1 2,25', '1 2,96', '-', '-', '1 6,00', '1 7,23', '1 0,20', '1 0,69'])\n",
      " list(['Visión Banco S.A.E.C.A.', 'Mínima', '1 5,70', '1 6,88', '-', '-', '2 0,00', '2 8,08', '8 ,00', '8 ,76', '6 ,90', '8 ,22', '-', '-', '1 4,00', '1 5,77', '7 ,00', '7 ,74'])\n",
      " list([None, 'Máxima', '1 5,70', '1 6,88', '-', '-', '2 6,00', '2 9,53', '9 ,80', '1 0,49', '1 4,00', '1 6,08', '-', '-', '2 0,00', '2 1,93', '9 ,80', '1 0,49'])\n",
      " list(['Banco Rio S.A.E.C.A.', 'Mínima', '1 5,74', '1 6,93', '-', '-', '1 9,75', '2 1,64', '7 ,75', '8 ,03', '1 0,00', '1 0,47', '7 ,00', '7 ,23', '2 3,75', '2 6,51', '1 0,24', '1 0,74'])\n",
      " list([None, 'Máxima', '1 6,27', '1 6,93', '-', '-', '2 6,32', '2 9,74', '1 0,24', '1 0,74', '1 5,00', '1 6,08', '1 0,24', '1 0,74', '2 6,32', '2 9,74', '1 0,24', '1 0,74'])\n",
      " list(['Banco Familiar S.A.E.C.A.', 'Mínima', '1 5,70', '1 6,93', '-', '-', '2 4,00', '2 6,83', '-', '-', '8 ,75', '9 ,11', '-', '-', '1 2,00', '1 2,68', '6 ,00', '6 ,17'])\n",
      " list([None, 'Máxima', '1 5,70', '1 6,93', '-', '-', '2 6,30', '2 9,74', '-', '-', '9 ,50', '9 ,93', '-', '-', '1 8,00', '1 9,56', '1 0,20', '1 0,74'])\n",
      " list(['Banco Atlas S.A.', 'Mínima', '1 1,88', '1 2,56', '3 ,97', '4 ,04', '1 6,22', '1 7,48', '8 ,00', '8 ,30', '7 ,90', '8 ,19', '-', '-', '8 ,36', '8 ,69', '-', '-'])\n",
      " list([None, 'Máxima', '1 5,78', '1 6,91', '9 ,98', '1 0,42', '2 6,39', '2 9,72', '1 0,16', '1 0,72', '1 1,35', '1 1,96', '-', '-', '1 5,41', '1 6,55', '-', '-'])\n",
      " list(['Bancop S.A.', 'Mínima', '1 5,72', '1 6,90', '-', '-', '1 6,50', '1 7,81', '1 0,16', '1 0,65', '7 ,90', '8 ,19', '-', '-', '1 2,90', '1 3,69', '-', '-'])\n",
      " list([None, 'Máxima', '1 5,72', '1 6,90', '-', '-', '2 6,29', '2 9,70', '1 0,23', '1 0,72', '1 0,75', '1 1,30', '-', '-', '1 3,90', '1 4,82', '-', '-'])\n",
      " list(['Interfisa Banco SAECA', 'Mínima', '1 0,00', '1 0,47', '-', '-', '1 8,00', '1 9,56', '-', '-', '7 ,90', '8 ,19', '-', '-', '-', '-', '-', '-'])\n",
      " list([None, 'Máxima', '1 5,74', '1 6,93', '-', '-', '2 6,32', '2 9,74', '-', '-', '1 0,90', '1 1,46', '-', '-', '-', '-', '-', '-'])\n",
      " list(['Banco Solar SAE', 'Mínima', '1 5,73', '1 6,91', '-', '-', '2 6,30', '2 9,72', '-', '-', '7 ,90', '8 ,19', '-', '-', '2 2,00', '2 4,36', '-', '-'])\n",
      " list([None, 'Máxima', '1 5,75', '1 6,93', '-', '-', '2 6,32', '2 9,74', '-', '-', '1 0,90', '1 1,46', '-', '-', '2 6,32', '2 9,74', '-', '-'])]\n"
     ]
    }
   ],
   "source": [
    "headers = df_t.iloc[0].values\n",
    "print(headers)\n",
    "# df_t.columns = headers\n",
    "# df_t.drop(index=0, axis=0, inplace=True)\n",
    "# df_t = df_t.dropna()"
   ]
  },
  {
   "cell_type": "code",
   "execution_count": 11,
   "metadata": {},
   "outputs": [
    {
     "data": {
      "text/plain": [
       "['Banco Nacional de Fomento',\n",
       " 'Mínima',\n",
       " '1 4,00',\n",
       " '1 4,94',\n",
       " '-',\n",
       " '-',\n",
       " '9 ,00',\n",
       " '9 ,31',\n",
       " '6 ,00',\n",
       " '6 ,17',\n",
       " '7 ,90',\n",
       " '8 ,19',\n",
       " '-',\n",
       " '-',\n",
       " '7 ,95',\n",
       " '8 ,25',\n",
       " '-',\n",
       " '-']"
      ]
     },
     "execution_count": 11,
     "metadata": {},
     "output_type": "execute_result"
    }
   ],
   "source": [
    "headers[4]"
   ]
  }
 ],
 "metadata": {
  "kernelspec": {
   "display_name": "Python 3",
   "language": "python",
   "name": "python3"
  },
  "language_info": {
   "codemirror_mode": {
    "name": "ipython",
    "version": 3
   },
   "file_extension": ".py",
   "mimetype": "text/x-python",
   "name": "python",
   "nbconvert_exporter": "python",
   "pygments_lexer": "ipython3",
   "version": "3.11.2"
  }
 },
 "nbformat": 4,
 "nbformat_minor": 2
}
