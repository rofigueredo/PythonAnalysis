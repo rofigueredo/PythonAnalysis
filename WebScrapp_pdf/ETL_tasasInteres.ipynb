{
 "cells": [
  {
   "cell_type": "markdown",
   "metadata": {},
   "source": [
    "### Transformaciones de datos"
   ]
  },
  {
   "cell_type": "code",
   "execution_count": null,
   "metadata": {},
   "outputs": [],
   "source": [
    "# Import libreries\n",
    "import pandas as pd\n",
    "from pdfquery import PDFQuery\n",
    "import os\n",
    "import pdfplumber\n",
    "import numpy as np"
   ]
  },
  {
   "cell_type": "code",
   "execution_count": null,
   "metadata": {},
   "outputs": [],
   "source": [
    "# Ruta directorio\n",
    "root_dir = os.getcwd()\n",
    "print(root_dir)"
   ]
  },
  {
   "cell_type": "code",
   "execution_count": null,
   "metadata": {},
   "outputs": [],
   "source": [
    "# Extraer fecha de cierre del pdf\n",
    "pdf = PDFQuery('descargas\\BANCOS012024.pdf')\n",
    "pdf.load()\n",
    "ele_texto = pdf.pq('LTTextLineHorizontal:contains(\"RESUMEN DE TASAS\")')\n",
    "textoTit = [t.text for t in ele_texto]\n",
    "\n",
    "ini = str(textoTit).find(\"MES:\")\n",
    "fin = len(str(textoTit[1]))\n",
    "cadenaFch = str(textoTit[1])\n",
    "\n",
    "print(cadenaFch[ini+3:fin-1])"
   ]
  },
  {
   "cell_type": "code",
   "execution_count": null,
   "metadata": {},
   "outputs": [],
   "source": [
    "# import pdfplumber\n",
    "# import numpy as np\n",
    "\n",
    "with pdfplumber.open('descargas\\BANCOS012024.pdf') as pdf:\n",
    "    first_page = pdf.pages[0]\n",
    "    second_page = pdf.pages[1]\n",
    "    third_page = pdf.pages[2]\n",
    "\n",
    "    datatable1 = first_page.extract_tables()\n",
    "    datatable2 = second_page.extract_tables()\n",
    "    datatable3 = third_page.extract_tables()\n",
    "\n",
    "\n",
    "    df_pag1 = pd.DataFrame(datatable1)\n",
    "    df_pag2 = pd.DataFrame(second_page.extract_tables())\n",
    "    df_pag3 = pd.DataFrame(third_page.extract_tables())\n",
    "\n",
    "\n",
    "df_pag1"
   ]
  },
  {
   "cell_type": "code",
   "execution_count": null,
   "metadata": {},
   "outputs": [],
   "source": [
    "df_pag2"
   ]
  },
  {
   "cell_type": "code",
   "execution_count": null,
   "metadata": {},
   "outputs": [],
   "source": [
    "df_pag3"
   ]
  },
  {
   "cell_type": "code",
   "execution_count": null,
   "metadata": {},
   "outputs": [],
   "source": [
    "# Definimos las Columnas de la pagina 1 del pdf Resumen de Tasas\n",
    "colPag1= ['Banco', 'Tasa', 'TC_ML_Nominal', 'TC_ML_Efectiva', 'TC_ME_Nominal', 'TC_ME_Efectiva', \n",
    "          'Micro_ML_Nominal', 'Micro_ML_Efectiva','Micro_ME_Nominal','Micro_ME_Efectiva', \n",
    "          'VivAFD_ML_Nominal','VivAFD_ML_Efectiva','VivAFD_ME_Nominal','VivAFD_ME_Efectiva'\n",
    "         ,'VivPro_ML_Nominal','VivPro_ML_Efectiva','VivPro_ME_Nominal','VivPro_ME_Efectiva']\n",
    "\n",
    "# Definimos las Columnas de la pagina 1 del pdf Resumen de Tasas\n",
    "colPag2= ['Banco', 'Tasa', 'PCom_ML_Nominal', 'PCom_ML_Efectiva', 'PCom_ME_Nominal', 'PCom_ME_Efectiva', \n",
    "          'PDes_ML_Nominal','PDes_ML_Efectiva','PDes_ME_Nominal','PDes_ME_Efectiva',\n",
    "          'PPer_ML_Nominal','PPer_ML_Efectiva','PPer_ME_Nominal','PPer_ME_Efectiva'\n",
    "         ,'Sobre_ML_Nominal','Sobre_ML_Efectiva','Sobre_ME_Nominal','Sobre_ME_Efectiva']\n",
    "\n",
    "# Definimos las Columnas de la pagina 1 del pdf Resumen de Tasas\n",
    "colPag3= ['Banco', 'Tasa', 'AH_ML_Nominal', 'AH_ML_Efectiva', 'AH_ME_Nominal', 'AH_ME_Efectiva', \n",
    "          'Cda180_ML_Nominal','Cda180_ML_Efectiva','Cda180_ME_Nominal','Cda180_ME_Efectiva',\n",
    "          'Cda365_ML_Nominal','Cda365_ML_Efectiva','Cda365_ME_Nominal','Cda365_ME_Efectiva'\n",
    "         ,'CDA_ML_Nominal','CDA_ML_Efectiva','CDA_ME_Nominal','CDA_ME_Efectiva']"
   ]
  },
  {
   "cell_type": "code",
   "execution_count": null,
   "metadata": {},
   "outputs": [],
   "source": [
    "# Creamos un arrays de listas\n",
    "vector1 = df_pag1.iloc[0].values\n",
    "vector2 = df_pag2.iloc[0].values\n",
    "vector3 = df_pag3.iloc[0].values\n",
    "\n",
    "vector1"
   ]
  },
  {
   "cell_type": "code",
   "execution_count": null,
   "metadata": {},
   "outputs": [],
   "source": [
    "# Transformamos el vector en lista\n",
    "lstvector1 = list(vector1)\n",
    "df_tasas1 = pd.DataFrame(lstvector1, columns=colPag1)\n",
    "\n",
    "lstvector2 = list(vector2)\n",
    "df_tasas2 = pd.DataFrame(lstvector2, columns=colPag2)\n",
    "\n",
    "lstvector3 = list(vector3)\n",
    "df_tasas3 = pd.DataFrame(lstvector3, columns=colPag3)\n",
    "\n",
    "# df_tasas1.head()"
   ]
  },
  {
   "cell_type": "code",
   "execution_count": null,
   "metadata": {},
   "outputs": [],
   "source": [
    "# Eliminar primeras filas pag 1\n",
    "df_tasas1.drop(df_tasas1.index[0:4], inplace=True)\n",
    "\n",
    "print('Filas, Col: '+str(df_tasas1.shape))\n",
    "df_tasas1.head()"
   ]
  },
  {
   "cell_type": "code",
   "execution_count": null,
   "metadata": {},
   "outputs": [],
   "source": [
    "# Eliminar primeras filas pag 2\n",
    "df_tasas2.drop(df_tasas2.index[0:4], inplace=True)\n",
    "\n",
    "print('Filas, Col: '+str(df_tasas2.shape))\n",
    "df_tasas2.head()"
   ]
  },
  {
   "cell_type": "code",
   "execution_count": null,
   "metadata": {},
   "outputs": [],
   "source": [
    "# Eliminar primeras filas pag 3\n",
    "df_tasas3.drop(df_tasas3.index[0:4], inplace=True)\n",
    "\n",
    "print('Filas, Col: '+str(df_tasas3.shape))\n",
    "df_tasas3.head()"
   ]
  },
  {
   "cell_type": "code",
   "execution_count": null,
   "metadata": {},
   "outputs": [],
   "source": [
    "df_tasas1.reset_index(drop=True, inplace=True)\n",
    "df_tasas2.reset_index(drop=True, inplace=True)\n",
    "df_tasas3.reset_index(drop=True, inplace=True)\n",
    "df_tasas1.head(2)"
   ]
  },
  {
   "cell_type": "code",
   "execution_count": null,
   "metadata": {},
   "outputs": [],
   "source": [
    "df_tasas2.head(2)"
   ]
  },
  {
   "cell_type": "code",
   "execution_count": null,
   "metadata": {},
   "outputs": [],
   "source": [
    "df_tasas3.head(2)"
   ]
  }
 ],
 "metadata": {
  "kernelspec": {
   "display_name": "Python 3",
   "language": "python",
   "name": "python3"
  },
  "language_info": {
   "codemirror_mode": {
    "name": "ipython",
    "version": 3
   },
   "file_extension": ".py",
   "mimetype": "text/x-python",
   "name": "python",
   "nbconvert_exporter": "python",
   "pygments_lexer": "ipython3",
   "version": "3.11.2"
  }
 },
 "nbformat": 4,
 "nbformat_minor": 2
}
