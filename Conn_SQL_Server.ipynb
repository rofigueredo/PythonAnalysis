{
 "cells": [
  {
   "attachments": {},
   "cell_type": "markdown",
   "metadata": {},
   "source": [
    "Ejemplo Conexxion a SQL con Autenticacion de Windows"
   ]
  },
  {
   "cell_type": "code",
   "execution_count": 1,
   "metadata": {},
   "outputs": [],
   "source": [
    "import pyodbc\n",
    "\n",
    "# create a connection string\n",
    "conn_str = (\n",
    "    \"Driver={SQL Server};\"\n",
    "    \"Server=ASUSTUF\\SQL22;\"\n",
    "    \"Database=AdventureWorksDW2019;\"\n",
    "    \"Trusted_Connection=yes;\"\n",
    ")"
   ]
  },
  {
   "cell_type": "code",
   "execution_count": 4,
   "metadata": {},
   "outputs": [
    {
     "name": "stdout",
     "output_type": "stream",
     "text": [
      "(1, 20101229, 3, 1, 1, 60, 22080.0, datetime.datetime(2010, 12, 29, 0, 0))\n",
      "(2, 20101229, 3, 1, 2, 60, 20200.0, datetime.datetime(2010, 12, 29, 0, 0))\n",
      "(3, 20101229, 3, 1, 2, 61, 2000.0, datetime.datetime(2010, 12, 29, 0, 0))\n",
      "(4, 20101229, 3, 1, 1, 61, 2208.0, datetime.datetime(2010, 12, 29, 0, 0))\n",
      "(5, 20101229, 3, 1, 1, 62, 1546.0, datetime.datetime(2010, 12, 29, 0, 0))\n"
     ]
    }
   ],
   "source": [
    "# create a connection object\n",
    "conn = pyodbc.connect(conn_str)\n",
    "\n",
    "# create a cursor object\n",
    "cursor = conn.cursor()\n",
    "\n",
    "# execute a SELECT statement\n",
    "cursor.execute(\"SELECT top 5 * FROM FactFinance\")\n",
    "for row in cursor:\n",
    "    print(row)"
   ]
  },
  {
   "cell_type": "code",
   "execution_count": 5,
   "metadata": {},
   "outputs": [
    {
     "name": "stdout",
     "output_type": "stream",
     "text": [
      "Conexión exitosa\n"
     ]
    }
   ],
   "source": [
    "import pyodbc\n",
    "\n",
    "server = 'ASUSTUF\\SQL22'\n",
    "database = 'AdventureWorksDW2019'\n",
    "username = 'nombre_usuario'\n",
    "password = 'contraseña'\n",
    "\n",
    "try:\n",
    "    connection = pyodbc.connect('DRIVER={ODBC Driver 17 for SQL Server};'\n",
    "                                f'SERVER={server};'\n",
    "                                f'DATABASE={database};'\n",
    "                                f'Trusted_Connection=yes;')\n",
    "    print('Conexión exitosa')\n",
    "except pyodbc.Error as e:\n",
    "    print(f'Error al conectar a la base de datos: {str(e)}')"
   ]
  },
  {
   "cell_type": "code",
   "execution_count": 7,
   "metadata": {},
   "outputs": [
    {
     "data": {
      "text/plain": [
       "[(1, 20101229, 3, 1, 1, 60, 22080.0, datetime.datetime(2010, 12, 29, 0, 0)),\n",
       " (2, 20101229, 3, 1, 2, 60, 20200.0, datetime.datetime(2010, 12, 29, 0, 0)),\n",
       " (3, 20101229, 3, 1, 2, 61, 2000.0, datetime.datetime(2010, 12, 29, 0, 0)),\n",
       " (4, 20101229, 3, 1, 1, 61, 2208.0, datetime.datetime(2010, 12, 29, 0, 0)),\n",
       " (5, 20101229, 3, 1, 1, 62, 1546.0, datetime.datetime(2010, 12, 29, 0, 0)),\n",
       " (6, 20101229, 3, 1, 2, 62, 1800.0, datetime.datetime(2010, 12, 29, 0, 0)),\n",
       " (7, 20101229, 3, 1, 2, 65, 380.0, datetime.datetime(2010, 12, 29, 0, 0)),\n",
       " (8, 20101229, 3, 1, 1, 65, 378.0, datetime.datetime(2010, 12, 29, 0, 0)),\n",
       " (9, 20101229, 3, 1, 1, 66, 344.0, datetime.datetime(2010, 12, 29, 0, 0)),\n",
       " (10, 20101229, 3, 1, 2, 66, 380.0, datetime.datetime(2010, 12, 29, 0, 0)),\n",
       " (11, 20101229, 3, 1, 2, 67, 200.0, datetime.datetime(2010, 12, 29, 0, 0)),\n",
       " (12, 20101229, 3, 1, 1, 67, 174.0, datetime.datetime(2010, 12, 29, 0, 0))]"
      ]
     },
     "execution_count": 7,
     "metadata": {},
     "output_type": "execute_result"
    }
   ],
   "source": [
    "# Consulta a la tabla\n",
    "cursor.execute('SELECT top 12 * FROM FactFinance')\n",
    "# Imprimir filas\n",
    "resultados = cursor.fetchall()\n",
    "resultados"
   ]
  }
 ],
 "metadata": {
  "kernelspec": {
   "display_name": "Python 3",
   "language": "python",
   "name": "python3"
  },
  "language_info": {
   "codemirror_mode": {
    "name": "ipython",
    "version": 3
   },
   "file_extension": ".py",
   "mimetype": "text/x-python",
   "name": "python",
   "nbconvert_exporter": "python",
   "pygments_lexer": "ipython3",
   "version": "3.11.2"
  },
  "orig_nbformat": 4
 },
 "nbformat": 4,
 "nbformat_minor": 2
}
