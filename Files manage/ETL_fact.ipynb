{
 "cells": [
  {
   "cell_type": "markdown",
   "metadata": {},
   "source": [
    "### Extract Data from PDF Files with Python"
   ]
  },
  {
   "cell_type": "code",
   "execution_count": null,
   "metadata": {},
   "outputs": [],
   "source": [
    "# !pip install PDFPlumber\n",
    "import pdfplumber\n",
    "import pandas as pd\n",
    "import os"
   ]
  },
  {
   "cell_type": "markdown",
   "metadata": {},
   "source": [
    "Ejemplo de Conexion con Pyodbc"
   ]
  },
  {
   "cell_type": "code",
   "execution_count": null,
   "metadata": {},
   "outputs": [],
   "source": [
    "import pyodbc\n",
    "\n",
    "server = 'ASUSTUF\\SQL22'\n",
    "database = 'AdventureWorksDW2019'\n",
    "# username = 'nombre_usuario'\n",
    "# password = 'contraseña'\n",
    "\n",
    "try:\n",
    "    connection = pyodbc.connect('DRIVER={ODBC Driver 17 for SQL Server};'\n",
    "                                f'SERVER={server};'\n",
    "                                f'DATABASE={database};'\n",
    "                                f'Trusted_Connection=yes;')\n",
    "    print('Conexión exitosa')\n",
    "except pyodbc.Error as e:\n",
    "    print(f'Error al conectar a la base de datos: {str(e)}')"
   ]
  },
  {
   "cell_type": "markdown",
   "metadata": {},
   "source": [
    "Insertar datos mendiate el modulo Cursor"
   ]
  },
  {
   "cell_type": "code",
   "execution_count": null,
   "metadata": {},
   "outputs": [],
   "source": [
    "# Insert data to a SQL Server table using Pyodbc librery with handle errors\n",
    "\n",
    "# ------ Metodo manual -------\n",
    "# Create a cursor from the connection\n",
    "cursor = connection.cursor()\n",
    "try:\n",
    "   cursor.execute(\"\"\"INSERT INTO FortalezaTemp VALUES (11353, 'Cuota de Prueba', 'Unidad', 2006, 1450, 10, 1100, 350, 125,  '001-001-0007592', '14-04-2023');\"\"\")\n",
    "   connection.commit()\n",
    "   print('Fila insertada')\n",
    "except Exception as e:\n",
    "   print(f\"Error al insertar: {e}\")"
   ]
  },
  {
   "cell_type": "code",
   "execution_count": null,
   "metadata": {},
   "outputs": [],
   "source": [
    "cursor.close()\n",
    "connection.close()"
   ]
  },
  {
   "cell_type": "markdown",
   "metadata": {},
   "source": [
    "Extraer datos de la tabla de la factura PDF"
   ]
  },
  {
   "cell_type": "code",
   "execution_count": null,
   "metadata": {},
   "outputs": [],
   "source": [
    "root_dir = os.getcwd()\n",
    "\n",
    "print(\"Ruta base archivos: {}\".format(root_dir)) \n",
    "\n",
    "df_archivos = []\n",
    "ciclo = 0\n",
    "\n",
    "for dirpath, dirnames, filenames in os.walk(root_dir):\n",
    "    for filename in filenames:\n",
    "        if filename.endswith('.pdf'):\n",
    "            file_paths = os.path.join(dirpath, filename)\n",
    "            # Se utiliza pdfPlumber para leer los datos de la tabla factura\n",
    "            with pdfplumber.open(file_paths) as temp:\n",
    "                print(file_paths)\n",
    "                ciclo += 1\n",
    "                    # Nombre de pdf dinamico\n",
    "                print(f\"pdf_{ciclo}\")\n",
    "                first_page = temp.pages[0]\n",
    "                # print(first_page.extract_table())"
   ]
  },
  {
   "cell_type": "code",
   "execution_count": null,
   "metadata": {},
   "outputs": [],
   "source": [
    "diccColumnas = ('Codigo', 'Descripcion', 'Unidad_medida', 'Cantidad', 'Precio_Unitario', 'Descuento', 'Exentas', 'Monto_5', 'Monto_10', 'NroFactura', 'FechaEmision')\n",
    "diccColumnas"
   ]
  },
  {
   "cell_type": "code",
   "execution_count": null,
   "metadata": {},
   "outputs": [],
   "source": [
    "root_dir = os.getcwd()\n",
    "\n",
    "df_archivos = []\n",
    "ciclo = 0\n",
    "\n",
    "for dirpath, dirnames, filenames in os.walk(root_dir):\n",
    "    for filename in filenames:\n",
    "        if filename.endswith('.pdf'):\n",
    "            file_paths = os.path.join(dirpath, filename)\n",
    "            # Se utiliza pdfPlumber para leer los datos de la tabla factura\n",
    "            with pdfplumber.open(file_paths) as temp:\n",
    "                print(file_paths)\n",
    "                ciclo += 1\n",
    "                    # Nombre de pdf dinamico\n",
    "                print(f\"pdf_{ciclo}\")\n",
    "                first_page = temp.pages[0]\n",
    "                        # print(first_page.extract_table())\n",
    "                dfnames = first_page.extract_table()\n",
    "                df_t = pd.DataFrame(dfnames)\n",
    "                headers = df_t.iloc[0].values\n",
    "                df_t.columns = headers\n",
    "                df_t.drop(index=0, axis=0, inplace=True)\n",
    "                df_t = df_t.dropna()\n",
    "\n",
    "                    # Se agrega el Nro de Factura al Df\n",
    "                texto = first_page.extract_text()\n",
    "                nroFact  = texto[0:15]\n",
    "                print(\"Nro Factura: {}\".format(nroFact)) \n",
    "                df_t['NroFactura']=nroFact\n",
    "\n",
    "                # #Se agrega la fecha y Hora impresa en la factura\n",
    "                lines = texto.split('\\n')\n",
    "                filtered_lines = [line for line in lines if 'Fecha y hora' in line]\n",
    "                # print('\\n'.join(filtered_lines))\n",
    "                str(filtered_lines)\n",
    "                fechafact =str(filtered_lines)[27:37]\n",
    "                print(\"Fecha Emision: {}\".format(fechafact))\n",
    "                df_t['FechaEmision']=fechafact\n",
    "                df_archivos.append(df_t)\n",
    "                \n",
    "            df = pd.concat(df_archivos, ignore_index=True)\n",
    "            df.columns = diccColumnas\n"
   ]
  },
  {
   "cell_type": "code",
   "execution_count": null,
   "metadata": {},
   "outputs": [],
   "source": [
    "# Removemos los separadores de miles y el ultimo punto decimal para evitar montos incorrectos\n",
    "columnasMontos = ['Precio_Unitario', 'Exentas', 'Monto_5', 'Monto_10']\n",
    "df[columnasMontos] = df[columnasMontos].applymap(lambda x: x.replace('.', ''))\n",
    "# recotamos 1 caracter a las columnas con valores en moneda\n",
    "df[columnasMontos] = df[columnasMontos].applymap(lambda x: x[:-1])\n",
    "df.head()"
   ]
  },
  {
   "cell_type": "code",
   "execution_count": null,
   "metadata": {},
   "outputs": [],
   "source": [
    "# Se extrae los 3 caracteres para las columnas Cuantitativas\n",
    "colCantidades = ['Cantidad', 'Descuento']\n",
    "df[colCantidades] = df[colCantidades].applymap(lambda x: x[:-3])"
   ]
  },
  {
   "cell_type": "code",
   "execution_count": null,
   "metadata": {},
   "outputs": [],
   "source": [
    "df_insert = df.tail()\n",
    "df_insert"
   ]
  },
  {
   "cell_type": "markdown",
   "metadata": {},
   "source": [
    "Metodo 1, insertando con Cursor de Pyodbc"
   ]
  },
  {
   "cell_type": "code",
   "execution_count": null,
   "metadata": {},
   "outputs": [],
   "source": [
    "# Create a cursor from the connection\n",
    "cursor = connection.cursor()\n",
    "\n",
    "for index, row in df_insert.iterrows():\n",
    "   cursor.execute(\"INSERT INTO FortalezaTemp (Codigo,Descripcion,Unidad_medida,Cantidad, Precio_Unitario,Descuento,Exentas, Monto_5, Monto_10, NroFactura, FechaEmision) values(?,?,?,?,?,?,?,?,?,?,?)\", row.Codigo, row.Descripcion, row.Unidad_medida, row.Cantidad, row.Precio_Unitario, row.Descuento, row.Exentas,row.Monto_5, row.Monto_10, row.NroFactura, row.FechaEmision)\n",
    "connection.commit()"
   ]
  },
  {
   "cell_type": "markdown",
   "metadata": {},
   "source": [
    "Metodo 2 Insert con libreria Pandas"
   ]
  },
  {
   "cell_type": "code",
   "execution_count": null,
   "metadata": {},
   "outputs": [],
   "source": [
    "query = \"SELECT * FROM dbo.FortalezaTemp\"\n",
    "df_query = pd.read_sql(query, connection)\n",
    "df_query.tail()"
   ]
  },
  {
   "cell_type": "markdown",
   "metadata": {},
   "source": [
    "### Bloque para leer la factura electronica version 1\n",
    "Comprende de Marzo de 2022 a Agosto 2022"
   ]
  },
  {
   "cell_type": "code",
   "execution_count": null,
   "metadata": {},
   "outputs": [],
   "source": [
    "rutaEspec = r\"C:\\\\Users\\\\rfigu\\\\Pictures\\\\Fortaleza\\\\facturaElectronicasV1\"\n",
    "\n",
    "df_archivos_v1 = []\n",
    "ciclo = 0\n",
    "\n",
    "for dirpath, dirnames, filenames in os.walk(rutaEspec):\n",
    "    for filename in filenames:\n",
    "        if filename.endswith('.pdf'):\n",
    "            file_paths = os.path.join(dirpath, filename)\n",
    "            # Se utiliza pdfPlumber para leer los datos de la tabla factura\n",
    "            with pdfplumber.open(file_paths) as temp:\n",
    "                print(file_paths)\n",
    "                ciclo += 1\n",
    "                    # Nombre de pdf dinamico\n",
    "                print(f\"pdf_{ciclo}\")\n",
    "                first_page = temp.pages[0]\n",
    "                        # print(first_page.extract_table())\n",
    "                dfnames = first_page.extract_table()\n",
    "                df_t = pd.DataFrame(dfnames)\n",
    "                headers = df_t.iloc[0].values\n",
    "                df_t.columns = headers\n",
    "                df_t.drop(index=0, axis=0, inplace=True)\n",
    "                df_t = df_t.dropna()\n",
    "\n",
    "                    # Se agrega el Nro de Factura al Df # factura version 1\n",
    "                texto = first_page.extract_text()\n",
    "                nroFact  = texto[327:342]\n",
    "                print(\"Nro Factura: {}\".format(nroFact)) \n",
    "                df_t['NroFactura']=nroFact\n",
    "\n",
    "                #   #Se agrega la fecha y Hora impresa en la factura version 1\n",
    "                lines = texto.split('\\n')\n",
    "                filtered_lines = [line for line in lines if 'Fecha de Emisión:' in line]\n",
    "                fechafact =str(filtered_lines)[20:30]\n",
    "                print(\"Fecha Emision: {}\".format(fechafact))\n",
    "                df_t['FechaEmision']=fechafact\n",
    "                df_archivos_v1.append(df_t)\n",
    "                            # if ciclo == 2:\n",
    "                            #     break    # break here\n",
    "                \n",
    "            df_v1 = pd.concat(df_archivos_v1, ignore_index=True)\n",
    "            df_v1.columns = diccColumnas"
   ]
  },
  {
   "cell_type": "code",
   "execution_count": null,
   "metadata": {},
   "outputs": [],
   "source": [
    "lines = texto.split('\\n')\n",
    "filtered_lines = [line for line in lines if 'Fecha de Emisión:' in line]\n",
    "fechafact =str(filtered_lines)[20:30]\n",
    "print(\"Fecha Emision: {}\".format(fechafact))"
   ]
  }
 ],
 "metadata": {
  "kernelspec": {
   "display_name": "Python 3",
   "language": "python",
   "name": "python3"
  },
  "language_info": {
   "codemirror_mode": {
    "name": "ipython",
    "version": 3
   },
   "file_extension": ".py",
   "mimetype": "text/x-python",
   "name": "python",
   "nbconvert_exporter": "python",
   "pygments_lexer": "ipython3",
   "version": "3.11.2"
  }
 },
 "nbformat": 4,
 "nbformat_minor": 2
}
