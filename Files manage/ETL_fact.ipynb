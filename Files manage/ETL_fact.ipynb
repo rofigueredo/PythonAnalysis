{
 "cells": [
  {
   "cell_type": "markdown",
   "metadata": {},
   "source": [
    "### Extract Data from PDF Files with Python"
   ]
  },
  {
   "cell_type": "code",
   "execution_count": 10,
   "metadata": {},
   "outputs": [],
   "source": [
    "# !pip install PDFPlumber\n",
    "import pdfplumber\n",
    "import pandas as pd\n",
    "import os"
   ]
  },
  {
   "cell_type": "markdown",
   "metadata": {},
   "source": [
    "Ejemplo de Conexion con Pyodbc"
   ]
  },
  {
   "cell_type": "code",
   "execution_count": 11,
   "metadata": {},
   "outputs": [
    {
     "name": "stdout",
     "output_type": "stream",
     "text": [
      "Conexión exitosa\n"
     ]
    }
   ],
   "source": [
    "import pyodbc\n",
    "\n",
    "server = 'ASUSTUF\\SQL22'\n",
    "database = 'AdventureWorksDW2019'\n",
    "# username = 'nombre_usuario'\n",
    "# password = 'contraseña'\n",
    "\n",
    "try:\n",
    "    connection = pyodbc.connect('DRIVER={ODBC Driver 17 for SQL Server};'\n",
    "                                f'SERVER={server};'\n",
    "                                f'DATABASE={database};'\n",
    "                                f'Trusted_Connection=yes;')\n",
    "    print('Conexión exitosa')\n",
    "except pyodbc.Error as e:\n",
    "    print(f'Error al conectar a la base de datos: {str(e)}')"
   ]
  },
  {
   "cell_type": "markdown",
   "metadata": {},
   "source": [
    "Insertar datos mendiate el modulo Cursor"
   ]
  },
  {
   "cell_type": "code",
   "execution_count": null,
   "metadata": {},
   "outputs": [],
   "source": [
    "# Insert data to a SQL Server table using Pyodbc librery with handle errors\n",
    "\n",
    "# ------ Metodo manual -------\n",
    "# Create a cursor from the connection\n",
    "cursor = connection.cursor()\n",
    "try:\n",
    "   cursor.execute(\"\"\"INSERT INTO FortalezaTemp VALUES (11353, 'Cuota de Prueba', 'Unidad', 2006, 1450, 10, 1100, 350, 125,  '001-001-0007592', '14-04-2023');\"\"\")\n",
    "   connection.commit()\n",
    "   print('Fila insertada')\n",
    "except Exception as e:\n",
    "   print(f\"Error al insertar: {e}\")"
   ]
  },
  {
   "cell_type": "code",
   "execution_count": null,
   "metadata": {},
   "outputs": [],
   "source": [
    "cursor.close()\n",
    "connection.close()"
   ]
  },
  {
   "cell_type": "markdown",
   "metadata": {},
   "source": [
    "Extraer datos de la tabla de la factura PDF"
   ]
  },
  {
   "cell_type": "code",
   "execution_count": 12,
   "metadata": {},
   "outputs": [
    {
     "name": "stdout",
     "output_type": "stream",
     "text": [
      "Ruta base archivos: c:\\Users\\rfigu\\Documents\\Learn\\LeerPDF\n",
      "c:\\Users\\rfigu\\Documents\\Learn\\LeerPDF\\invoice\\44_Febrero_2024.pdf\n",
      "pdf_1\n"
     ]
    }
   ],
   "source": [
    "root_dir = os.getcwd()\n",
    "\n",
    "print(\"Ruta base archivos: {}\".format(root_dir)) \n",
    "\n",
    "df_archivos = []\n",
    "ciclo = 0\n",
    "\n",
    "for dirpath, dirnames, filenames in os.walk(root_dir):\n",
    "    for filename in filenames:\n",
    "        if filename.endswith('.pdf'):\n",
    "            file_paths = os.path.join(dirpath, filename)\n",
    "            # Se utiliza pdfPlumber para leer los datos de la tabla factura\n",
    "            with pdfplumber.open(file_paths) as temp:\n",
    "                print(file_paths)\n",
    "                ciclo += 1\n",
    "                    # Nombre de pdf dinamico\n",
    "                print(f\"pdf_{ciclo}\")\n",
    "                first_page = temp.pages[0]\n",
    "                # print(first_page.extract_table())"
   ]
  },
  {
   "cell_type": "code",
   "execution_count": 13,
   "metadata": {},
   "outputs": [
    {
     "data": {
      "text/plain": [
       "('Codigo',\n",
       " 'Descripcion',\n",
       " 'Unidad_medida',\n",
       " 'Cantidad',\n",
       " 'Precio_Unitario',\n",
       " 'Descuento',\n",
       " 'Exentas',\n",
       " 'Monto_5',\n",
       " 'Monto_10',\n",
       " 'NroFactura',\n",
       " 'FechaEmision')"
      ]
     },
     "execution_count": 13,
     "metadata": {},
     "output_type": "execute_result"
    }
   ],
   "source": [
    "diccColumnas = ('Codigo', 'Descripcion', 'Unidad_medida', 'Cantidad', 'Precio_Unitario', 'Descuento', 'Exentas', 'Monto_5', 'Monto_10', 'NroFactura', 'FechaEmision')\n",
    "diccColumnas"
   ]
  },
  {
   "cell_type": "code",
   "execution_count": 14,
   "metadata": {},
   "outputs": [
    {
     "name": "stdout",
     "output_type": "stream",
     "text": [
      "c:\\Users\\rfigu\\Documents\\Learn\\LeerPDF\\invoice\\44_Febrero_2024.pdf\n",
      "pdf_1\n",
      "Nro Factura: 001-001-0217229\n",
      "Fecha Emision: 09-02-2024\n"
     ]
    }
   ],
   "source": [
    "root_dir = os.getcwd()\n",
    "\n",
    "df_archivos = []\n",
    "ciclo = 0\n",
    "\n",
    "for dirpath, dirnames, filenames in os.walk(root_dir):\n",
    "    for filename in filenames:\n",
    "        if filename.endswith('.pdf'):\n",
    "            file_paths = os.path.join(dirpath, filename)\n",
    "            # Se utiliza pdfPlumber para leer los datos de la tabla factura\n",
    "            with pdfplumber.open(file_paths) as temp:\n",
    "                print(file_paths)\n",
    "                ciclo += 1\n",
    "                    # Nombre de pdf dinamico\n",
    "                print(f\"pdf_{ciclo}\")\n",
    "                first_page = temp.pages[0]\n",
    "                        # print(first_page.extract_table())\n",
    "                dfnames = first_page.extract_table()\n",
    "                df_t = pd.DataFrame(dfnames)\n",
    "                headers = df_t.iloc[0].values\n",
    "                df_t.columns = headers\n",
    "                df_t.drop(index=0, axis=0, inplace=True)\n",
    "                df_t = df_t.dropna()\n",
    "\n",
    "                    # Se agrega el Nro de Factura al Df\n",
    "                texto = first_page.extract_text()\n",
    "                nroFact  = texto[0:15]\n",
    "                print(\"Nro Factura: {}\".format(nroFact)) \n",
    "                df_t['NroFactura']=nroFact\n",
    "\n",
    "                # #Se agrega la fecha y Hora impresa en la factura\n",
    "                lines = texto.split('\\n')\n",
    "                filtered_lines = [line for line in lines if 'Fecha y hora' in line]\n",
    "                # print('\\n'.join(filtered_lines))\n",
    "                str(filtered_lines)\n",
    "                fechafact =str(filtered_lines)[27:37]\n",
    "                print(\"Fecha Emision: {}\".format(fechafact))\n",
    "                df_t['FechaEmision']=fechafact\n",
    "                df_archivos.append(df_t)\n",
    "                \n",
    "            df = pd.concat(df_archivos, ignore_index=True)\n",
    "            df.columns = diccColumnas\n"
   ]
  },
  {
   "cell_type": "code",
   "execution_count": 15,
   "metadata": {},
   "outputs": [
    {
     "data": {
      "text/html": [
       "<div>\n",
       "<style scoped>\n",
       "    .dataframe tbody tr th:only-of-type {\n",
       "        vertical-align: middle;\n",
       "    }\n",
       "\n",
       "    .dataframe tbody tr th {\n",
       "        vertical-align: top;\n",
       "    }\n",
       "\n",
       "    .dataframe thead th {\n",
       "        text-align: right;\n",
       "    }\n",
       "</style>\n",
       "<table border=\"1\" class=\"dataframe\">\n",
       "  <thead>\n",
       "    <tr style=\"text-align: right;\">\n",
       "      <th></th>\n",
       "      <th>Codigo</th>\n",
       "      <th>Descripcion</th>\n",
       "      <th>Unidad_medida</th>\n",
       "      <th>Cantidad</th>\n",
       "      <th>Precio_Unitario</th>\n",
       "      <th>Descuento</th>\n",
       "      <th>Exentas</th>\n",
       "      <th>Monto_5</th>\n",
       "      <th>Monto_10</th>\n",
       "      <th>NroFactura</th>\n",
       "      <th>FechaEmision</th>\n",
       "    </tr>\n",
       "  </thead>\n",
       "  <tbody>\n",
       "    <tr>\n",
       "      <th>0</th>\n",
       "      <td>ESPERA20EX</td>\n",
       "      <td>Espera - ESPERA_EXENTA Feb/24 36:240 - Cto.:\\n...</td>\n",
       "      <td>UNI</td>\n",
       "      <td>1.00</td>\n",
       "      <td>1140000</td>\n",
       "      <td>0.00</td>\n",
       "      <td>1140000</td>\n",
       "      <td></td>\n",
       "      <td></td>\n",
       "      <td>001-001-0217229</td>\n",
       "      <td>09-02-2024</td>\n",
       "    </tr>\n",
       "    <tr>\n",
       "      <th>1</th>\n",
       "      <td>ESPERA20IM</td>\n",
       "      <td>Gastos Administrativos</td>\n",
       "      <td>UNI</td>\n",
       "      <td>1.00</td>\n",
       "      <td>285000</td>\n",
       "      <td>0.00</td>\n",
       "      <td></td>\n",
       "      <td></td>\n",
       "      <td>285000</td>\n",
       "      <td>001-001-0217229</td>\n",
       "      <td>09-02-2024</td>\n",
       "    </tr>\n",
       "  </tbody>\n",
       "</table>\n",
       "</div>"
      ],
      "text/plain": [
       "       Codigo                                        Descripcion  \\\n",
       "0  ESPERA20EX  Espera - ESPERA_EXENTA Feb/24 36:240 - Cto.:\\n...   \n",
       "1  ESPERA20IM                             Gastos Administrativos   \n",
       "\n",
       "  Unidad_medida Cantidad Precio_Unitario Descuento  Exentas Monto_5 Monto_10  \\\n",
       "0           UNI     1.00         1140000      0.00  1140000                    \n",
       "1           UNI     1.00          285000      0.00                    285000   \n",
       "\n",
       "        NroFactura FechaEmision  \n",
       "0  001-001-0217229   09-02-2024  \n",
       "1  001-001-0217229   09-02-2024  "
      ]
     },
     "execution_count": 15,
     "metadata": {},
     "output_type": "execute_result"
    }
   ],
   "source": [
    "# Removemos los separadores de miles y el ultimo punto decimal para evitar montos incorrectos\n",
    "columnasMontos = ['Precio_Unitario', 'Exentas', 'Monto_5', 'Monto_10']\n",
    "df[columnasMontos] = df[columnasMontos].applymap(lambda x: x.replace('.', ''))\n",
    "# recotamos 1 caracter a las columnas con valores en moneda\n",
    "df[columnasMontos] = df[columnasMontos].applymap(lambda x: x[:-1])\n",
    "df.head()"
   ]
  },
  {
   "cell_type": "code",
   "execution_count": 16,
   "metadata": {},
   "outputs": [],
   "source": [
    "# Se extrae los 3 caracteres para las columnas Cuantitativas\n",
    "colCantidades = ['Cantidad', 'Descuento']\n",
    "df[colCantidades] = df[colCantidades].applymap(lambda x: x[:-3])"
   ]
  },
  {
   "cell_type": "code",
   "execution_count": 17,
   "metadata": {},
   "outputs": [
    {
     "data": {
      "text/html": [
       "<div>\n",
       "<style scoped>\n",
       "    .dataframe tbody tr th:only-of-type {\n",
       "        vertical-align: middle;\n",
       "    }\n",
       "\n",
       "    .dataframe tbody tr th {\n",
       "        vertical-align: top;\n",
       "    }\n",
       "\n",
       "    .dataframe thead th {\n",
       "        text-align: right;\n",
       "    }\n",
       "</style>\n",
       "<table border=\"1\" class=\"dataframe\">\n",
       "  <thead>\n",
       "    <tr style=\"text-align: right;\">\n",
       "      <th></th>\n",
       "      <th>Codigo</th>\n",
       "      <th>Descripcion</th>\n",
       "      <th>Unidad_medida</th>\n",
       "      <th>Cantidad</th>\n",
       "      <th>Precio_Unitario</th>\n",
       "      <th>Descuento</th>\n",
       "      <th>Exentas</th>\n",
       "      <th>Monto_5</th>\n",
       "      <th>Monto_10</th>\n",
       "      <th>NroFactura</th>\n",
       "      <th>FechaEmision</th>\n",
       "    </tr>\n",
       "  </thead>\n",
       "  <tbody>\n",
       "    <tr>\n",
       "      <th>0</th>\n",
       "      <td>ESPERA20EX</td>\n",
       "      <td>Espera - ESPERA_EXENTA Feb/24 36:240 - Cto.:\\n...</td>\n",
       "      <td>UNI</td>\n",
       "      <td>1</td>\n",
       "      <td>1140000</td>\n",
       "      <td>0</td>\n",
       "      <td>1140000</td>\n",
       "      <td></td>\n",
       "      <td></td>\n",
       "      <td>001-001-0217229</td>\n",
       "      <td>09-02-2024</td>\n",
       "    </tr>\n",
       "    <tr>\n",
       "      <th>1</th>\n",
       "      <td>ESPERA20IM</td>\n",
       "      <td>Gastos Administrativos</td>\n",
       "      <td>UNI</td>\n",
       "      <td>1</td>\n",
       "      <td>285000</td>\n",
       "      <td>0</td>\n",
       "      <td></td>\n",
       "      <td></td>\n",
       "      <td>285000</td>\n",
       "      <td>001-001-0217229</td>\n",
       "      <td>09-02-2024</td>\n",
       "    </tr>\n",
       "  </tbody>\n",
       "</table>\n",
       "</div>"
      ],
      "text/plain": [
       "       Codigo                                        Descripcion  \\\n",
       "0  ESPERA20EX  Espera - ESPERA_EXENTA Feb/24 36:240 - Cto.:\\n...   \n",
       "1  ESPERA20IM                             Gastos Administrativos   \n",
       "\n",
       "  Unidad_medida Cantidad Precio_Unitario Descuento  Exentas Monto_5 Monto_10  \\\n",
       "0           UNI        1         1140000         0  1140000                    \n",
       "1           UNI        1          285000         0                    285000   \n",
       "\n",
       "        NroFactura FechaEmision  \n",
       "0  001-001-0217229   09-02-2024  \n",
       "1  001-001-0217229   09-02-2024  "
      ]
     },
     "execution_count": 17,
     "metadata": {},
     "output_type": "execute_result"
    }
   ],
   "source": [
    "df_insert = df.tail()\n",
    "df_insert"
   ]
  },
  {
   "cell_type": "markdown",
   "metadata": {},
   "source": [
    "Metodo 1, insertando con Cursor de Pyodbc"
   ]
  },
  {
   "cell_type": "code",
   "execution_count": 18,
   "metadata": {},
   "outputs": [],
   "source": [
    "# Create a cursor from the connection\n",
    "cursor = connection.cursor()\n",
    "\n",
    "for index, row in df_insert.iterrows():\n",
    "   cursor.execute(\"INSERT INTO FortalezaTemp (Codigo,Descripcion,Unidad_medida,Cantidad, Precio_Unitario,Descuento,Exentas, Monto_5, Monto_10, NroFactura, FechaEmision) values(?,?,?,?,?,?,?,?,?,?,?)\", row.Codigo, row.Descripcion, row.Unidad_medida, row.Cantidad, row.Precio_Unitario, row.Descuento, row.Exentas,row.Monto_5, row.Monto_10, row.NroFactura, row.FechaEmision)\n",
    "connection.commit()"
   ]
  },
  {
   "cell_type": "markdown",
   "metadata": {},
   "source": [
    "Metodo 2 Insert con libreria Pandas"
   ]
  },
  {
   "cell_type": "code",
   "execution_count": 20,
   "metadata": {},
   "outputs": [
    {
     "name": "stderr",
     "output_type": "stream",
     "text": [
      "C:\\Users\\rfigu\\AppData\\Local\\Temp\\ipykernel_28976\\1768059200.py:2: UserWarning: pandas only supports SQLAlchemy connectable (engine/connection) or database string URI or sqlite3 DBAPI2 connection. Other DBAPI2 objects are not tested. Please consider using SQLAlchemy.\n",
      "  df_query = pd.read_sql(query, connection)\n"
     ]
    },
    {
     "data": {
      "text/html": [
       "<div>\n",
       "<style scoped>\n",
       "    .dataframe tbody tr th:only-of-type {\n",
       "        vertical-align: middle;\n",
       "    }\n",
       "\n",
       "    .dataframe tbody tr th {\n",
       "        vertical-align: top;\n",
       "    }\n",
       "\n",
       "    .dataframe thead th {\n",
       "        text-align: right;\n",
       "    }\n",
       "</style>\n",
       "<table border=\"1\" class=\"dataframe\">\n",
       "  <thead>\n",
       "    <tr style=\"text-align: right;\">\n",
       "      <th></th>\n",
       "      <th>Codigo</th>\n",
       "      <th>Descripcion</th>\n",
       "      <th>Unidad_medida</th>\n",
       "      <th>Cantidad</th>\n",
       "      <th>Precio_Unitario</th>\n",
       "      <th>Descuento</th>\n",
       "      <th>Exentas</th>\n",
       "      <th>Monto_5</th>\n",
       "      <th>Monto_10</th>\n",
       "      <th>NroFactura</th>\n",
       "      <th>FechaEmision</th>\n",
       "    </tr>\n",
       "  </thead>\n",
       "  <tbody>\n",
       "    <tr>\n",
       "      <th>76</th>\n",
       "      <td>ESPERA20EX</td>\n",
       "      <td>Espera 02/22 : 14 - Cto.: 13467</td>\n",
       "      <td>UNI</td>\n",
       "      <td>1.0</td>\n",
       "      <td>988000.0</td>\n",
       "      <td>0.0</td>\n",
       "      <td>988000.0</td>\n",
       "      <td>0.0</td>\n",
       "      <td>0.0</td>\n",
       "      <td>001-002-0010793</td>\n",
       "      <td>2022-02-11</td>\n",
       "    </tr>\n",
       "    <tr>\n",
       "      <th>77</th>\n",
       "      <td>ESPERA20EX</td>\n",
       "      <td>Espera - ESPERA_EXENTA Ene/24 35:240 - Cto.:\\n...</td>\n",
       "      <td>UNI</td>\n",
       "      <td>1.0</td>\n",
       "      <td>1140000.0</td>\n",
       "      <td>0.0</td>\n",
       "      <td>1140000.0</td>\n",
       "      <td>0.0</td>\n",
       "      <td>0.0</td>\n",
       "      <td>001-001-0204838</td>\n",
       "      <td>2024-01-10</td>\n",
       "    </tr>\n",
       "    <tr>\n",
       "      <th>78</th>\n",
       "      <td>ESPERA20IM</td>\n",
       "      <td>Gastos Administrativos</td>\n",
       "      <td>UNI</td>\n",
       "      <td>1.0</td>\n",
       "      <td>285000.0</td>\n",
       "      <td>0.0</td>\n",
       "      <td>0.0</td>\n",
       "      <td>0.0</td>\n",
       "      <td>285000.0</td>\n",
       "      <td>001-001-0204838</td>\n",
       "      <td>2024-01-10</td>\n",
       "    </tr>\n",
       "    <tr>\n",
       "      <th>79</th>\n",
       "      <td>ESPERA20EX</td>\n",
       "      <td>Espera - ESPERA_EXENTA Feb/24 36:240 - Cto.:\\n...</td>\n",
       "      <td>UNI</td>\n",
       "      <td>1.0</td>\n",
       "      <td>1140000.0</td>\n",
       "      <td>0.0</td>\n",
       "      <td>1140000.0</td>\n",
       "      <td>0.0</td>\n",
       "      <td>0.0</td>\n",
       "      <td>001-001-0217229</td>\n",
       "      <td>2024-02-09</td>\n",
       "    </tr>\n",
       "    <tr>\n",
       "      <th>80</th>\n",
       "      <td>ESPERA20IM</td>\n",
       "      <td>Gastos Administrativos</td>\n",
       "      <td>UNI</td>\n",
       "      <td>1.0</td>\n",
       "      <td>285000.0</td>\n",
       "      <td>0.0</td>\n",
       "      <td>0.0</td>\n",
       "      <td>0.0</td>\n",
       "      <td>285000.0</td>\n",
       "      <td>001-001-0217229</td>\n",
       "      <td>2024-02-09</td>\n",
       "    </tr>\n",
       "  </tbody>\n",
       "</table>\n",
       "</div>"
      ],
      "text/plain": [
       "        Codigo                                        Descripcion  \\\n",
       "76  ESPERA20EX                    Espera 02/22 : 14 - Cto.: 13467   \n",
       "77  ESPERA20EX  Espera - ESPERA_EXENTA Ene/24 35:240 - Cto.:\\n...   \n",
       "78  ESPERA20IM                             Gastos Administrativos   \n",
       "79  ESPERA20EX  Espera - ESPERA_EXENTA Feb/24 36:240 - Cto.:\\n...   \n",
       "80  ESPERA20IM                             Gastos Administrativos   \n",
       "\n",
       "   Unidad_medida  Cantidad  Precio_Unitario  Descuento    Exentas  Monto_5  \\\n",
       "76           UNI       1.0         988000.0        0.0   988000.0      0.0   \n",
       "77           UNI       1.0        1140000.0        0.0  1140000.0      0.0   \n",
       "78           UNI       1.0         285000.0        0.0        0.0      0.0   \n",
       "79           UNI       1.0        1140000.0        0.0  1140000.0      0.0   \n",
       "80           UNI       1.0         285000.0        0.0        0.0      0.0   \n",
       "\n",
       "    Monto_10       NroFactura FechaEmision  \n",
       "76       0.0  001-002-0010793   2022-02-11  \n",
       "77       0.0  001-001-0204838   2024-01-10  \n",
       "78  285000.0  001-001-0204838   2024-01-10  \n",
       "79       0.0  001-001-0217229   2024-02-09  \n",
       "80  285000.0  001-001-0217229   2024-02-09  "
      ]
     },
     "execution_count": 20,
     "metadata": {},
     "output_type": "execute_result"
    }
   ],
   "source": [
    "query = \"SELECT * FROM dbo.FortalezaTemp\"\n",
    "df_query = pd.read_sql(query, connection)\n",
    "df_query.tail()"
   ]
  },
  {
   "cell_type": "markdown",
   "metadata": {},
   "source": [
    "### Bloque para leer la factura electronica version 1\n",
    "Comprende de Marzo de 2022 a Agosto 2022"
   ]
  },
  {
   "cell_type": "code",
   "execution_count": null,
   "metadata": {},
   "outputs": [],
   "source": [
    "rutaEspec = r\"C:\\\\Users\\\\rfigu\\\\Pictures\\\\Fortaleza\\\\facturaElectronicasV1\"\n",
    "\n",
    "df_archivos_v1 = []\n",
    "ciclo = 0\n",
    "\n",
    "for dirpath, dirnames, filenames in os.walk(rutaEspec):\n",
    "    for filename in filenames:\n",
    "        if filename.endswith('.pdf'):\n",
    "            file_paths = os.path.join(dirpath, filename)\n",
    "            # Se utiliza pdfPlumber para leer los datos de la tabla factura\n",
    "            with pdfplumber.open(file_paths) as temp:\n",
    "                print(file_paths)\n",
    "                ciclo += 1\n",
    "                    # Nombre de pdf dinamico\n",
    "                print(f\"pdf_{ciclo}\")\n",
    "                first_page = temp.pages[0]\n",
    "                        # print(first_page.extract_table())\n",
    "                dfnames = first_page.extract_table()\n",
    "                df_t = pd.DataFrame(dfnames)\n",
    "                headers = df_t.iloc[0].values\n",
    "                df_t.columns = headers\n",
    "                df_t.drop(index=0, axis=0, inplace=True)\n",
    "                df_t = df_t.dropna()\n",
    "\n",
    "                    # Se agrega el Nro de Factura al Df # factura version 1\n",
    "                texto = first_page.extract_text()\n",
    "                nroFact  = texto[327:342]\n",
    "                print(\"Nro Factura: {}\".format(nroFact)) \n",
    "                df_t['NroFactura']=nroFact\n",
    "\n",
    "                #   #Se agrega la fecha y Hora impresa en la factura version 1\n",
    "                lines = texto.split('\\n')\n",
    "                filtered_lines = [line for line in lines if 'Fecha de Emisión:' in line]\n",
    "                fechafact =str(filtered_lines)[20:30]\n",
    "                print(\"Fecha Emision: {}\".format(fechafact))\n",
    "                df_t['FechaEmision']=fechafact\n",
    "                df_archivos_v1.append(df_t)\n",
    "                            # if ciclo == 2:\n",
    "                            #     break    # break here\n",
    "                \n",
    "            df_v1 = pd.concat(df_archivos_v1, ignore_index=True)\n",
    "            df_v1.columns = diccColumnas"
   ]
  },
  {
   "cell_type": "code",
   "execution_count": null,
   "metadata": {},
   "outputs": [],
   "source": [
    "df_v1"
   ]
  },
  {
   "cell_type": "code",
   "execution_count": null,
   "metadata": {},
   "outputs": [],
   "source": [
    "df.head(2)"
   ]
  },
  {
   "cell_type": "code",
   "execution_count": null,
   "metadata": {},
   "outputs": [],
   "source": [
    "# Nro de factura en la factra v2\n",
    "texto = first_page.extract_text()\n",
    "nroFact  = texto[327:342]\n",
    "print(\"Nro Factura: {}\".format(nroFact)) "
   ]
  },
  {
   "cell_type": "code",
   "execution_count": null,
   "metadata": {},
   "outputs": [],
   "source": [
    "lines = texto.split('\\n')\n",
    "filtered_lines = [line for line in lines if 'Fecha de Emisión:' in line]\n",
    "fechafact =str(filtered_lines)[20:30]\n",
    "print(\"Fecha Emision: {}\".format(fechafact))"
   ]
  }
 ],
 "metadata": {
  "kernelspec": {
   "display_name": "Python 3",
   "language": "python",
   "name": "python3"
  },
  "language_info": {
   "codemirror_mode": {
    "name": "ipython",
    "version": 3
   },
   "file_extension": ".py",
   "mimetype": "text/x-python",
   "name": "python",
   "nbconvert_exporter": "python",
   "pygments_lexer": "ipython3",
   "version": "3.11.2"
  }
 },
 "nbformat": 4,
 "nbformat_minor": 2
}
