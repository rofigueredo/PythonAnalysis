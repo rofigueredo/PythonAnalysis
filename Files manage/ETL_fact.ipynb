{
 "cells": [
  {
   "cell_type": "markdown",
   "metadata": {},
   "source": [
    "### Extract Data from PDF Files with Python"
   ]
  },
  {
   "cell_type": "code",
   "execution_count": null,
   "metadata": {},
   "outputs": [],
   "source": [
    "import pdfplumber\n",
    "with pdfplumber.open(\"38_Septiembre_2023.pdf\") as temp:\n",
    "   first_page = temp.pages[0]\n",
    "   print(first_page.extract_table())"
   ]
  },
  {
   "cell_type": "code",
   "execution_count": null,
   "metadata": {},
   "outputs": [],
   "source": [
    "# !pip install PDFPlumber\n",
    "import pdfplumber\n",
    "with pdfplumber.open(\"38_Septiembre_2023.pdf\") as temp:\n",
    "   first_page = temp.pages[0]\n",
    "   print(first_page.extract_text())"
   ]
  },
  {
   "cell_type": "code",
   "execution_count": null,
   "metadata": {},
   "outputs": [],
   "source": [
    "text = first_page.extract_text()\n",
    "lines = text.split('\\n')\n",
    "filtered_lines = [line for line in lines if 'Fecha' in line]\n",
    "print('\\n'.join(filtered_lines))"
   ]
  },
  {
   "cell_type": "code",
   "execution_count": null,
   "metadata": {},
   "outputs": [],
   "source": [
    "print(filtered_lines)"
   ]
  },
  {
   "cell_type": "code",
   "execution_count": null,
   "metadata": {},
   "outputs": [],
   "source": [
    "# !pip install PDFPlumber\n",
    "import pdfplumber\n",
    "with pdfplumber.open(\"38_Septiembre_2023.pdf\") as temp:\n",
    "   first_page = temp.pages[0]\n",
    "   print(first_page.extract_table())"
   ]
  },
  {
   "cell_type": "code",
   "execution_count": null,
   "metadata": {},
   "outputs": [],
   "source": [
    "tabla = first_page.extract_table()\n",
    "encabezados = tabla[0]\n",
    "fila1 = tabla[1]\n",
    "fila2 = tabla[2]\n",
    "fila3 = tabla[3]\n",
    "fila4 = tabla[4]\n",
    "fila5 = tabla[5]\n",
    "fila6 = tabla[6]"
   ]
  },
  {
   "cell_type": "code",
   "execution_count": null,
   "metadata": {},
   "outputs": [],
   "source": [
    "import pandas as pd\n",
    "df = pd.DataFrame(columns=encabezados)\n",
    "df.loc[len(df)] = fila1\n",
    "df.loc[len(df)] = fila2\n",
    "df.loc[len(df)] = fila3\n",
    "df.loc[len(df)] = fila4\n",
    "df.loc[len(df)] = fila5\n",
    "df.loc[len(df)] = fila6\n",
    "df"
   ]
  },
  {
   "cell_type": "code",
   "execution_count": null,
   "metadata": {},
   "outputs": [],
   "source": [
    "type(dftabla)"
   ]
  },
  {
   "cell_type": "code",
   "execution_count": null,
   "metadata": {},
   "outputs": [],
   "source": [
    "b = first_page.extract_text()\n",
    "nroFact  =b[0:15]\n",
    "print(\"Nro Factura: {}\".format(nroFact)) "
   ]
  },
  {
   "cell_type": "code",
   "execution_count": null,
   "metadata": {},
   "outputs": [],
   "source": [
    "df['NroFactura']=nroFact\n",
    "df"
   ]
  },
  {
   "cell_type": "code",
   "execution_count": null,
   "metadata": {},
   "outputs": [],
   "source": [
    "text = first_page.extract_text()\n",
    "lines = text.split('\\n')\n",
    "filtered_lines = [line for line in lines if 'Fecha y hora' in line]\n",
    "# print('\\n'.join(filtered_lines))\n",
    "\n",
    "str(filtered_lines)\n",
    "fechafact =str(filtered_lines)[27:37]\n",
    "print(\"Fecha Emision: {}\".format(fechafact))"
   ]
  },
  {
   "cell_type": "code",
   "execution_count": null,
   "metadata": {},
   "outputs": [],
   "source": [
    "df['FechaEmision']=fechafact\n",
    "df"
   ]
  },
  {
   "cell_type": "code",
   "execution_count": null,
   "metadata": {},
   "outputs": [],
   "source": [
    "df['FechaEmision'] = pd.to_datetime(df['FechaEmision'])"
   ]
  },
  {
   "cell_type": "code",
   "execution_count": null,
   "metadata": {},
   "outputs": [],
   "source": [
    "df.dtypes"
   ]
  },
  {
   "cell_type": "code",
   "execution_count": null,
   "metadata": {},
   "outputs": [],
   "source": [
    "df"
   ]
  }
 ],
 "metadata": {
  "kernelspec": {
   "display_name": "Python 3",
   "language": "python",
   "name": "python3"
  },
  "language_info": {
   "codemirror_mode": {
    "name": "ipython",
    "version": 3
   },
   "file_extension": ".py",
   "mimetype": "text/x-python",
   "name": "python",
   "nbconvert_exporter": "python",
   "pygments_lexer": "ipython3",
   "version": "3.10.12"
  }
 },
 "nbformat": 4,
 "nbformat_minor": 2
}
