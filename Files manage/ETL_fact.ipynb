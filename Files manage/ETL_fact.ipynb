{
 "cells": [
  {
   "cell_type": "markdown",
   "metadata": {},
   "source": [
    "### Extract Data from PDF Files with Python"
   ]
  },
  {
   "cell_type": "code",
   "execution_count": null,
   "metadata": {},
   "outputs": [],
   "source": [
    "# !pip install PDFPlumber\n",
    "import pdfplumber\n",
    "with pdfplumber.open(\"38_Septiembre_2023.pdf\") as temp:\n",
    "   first_page = temp.pages[0]\n",
    "   print(first_page.extract_table())"
   ]
  },
  {
   "cell_type": "code",
   "execution_count": null,
   "metadata": {},
   "outputs": [],
   "source": [
    "\n",
    "with pdfplumber.open(\"38_Septiembre_2023.pdf\") as temp:\n",
    "   first_page = temp.pages[0]\n",
    "   print(first_page.extract_text())"
   ]
  },
  {
   "cell_type": "code",
   "execution_count": null,
   "metadata": {},
   "outputs": [],
   "source": [
    "text = first_page.extract_text()\n",
    "lines = text.split('\\n')\n",
    "filtered_lines = [line for line in lines if 'Fecha' in line]\n",
    "print('\\n'.join(filtered_lines))"
   ]
  },
  {
   "cell_type": "code",
   "execution_count": null,
   "metadata": {},
   "outputs": [],
   "source": [
    "print(filtered_lines)"
   ]
  },
  {
   "cell_type": "code",
   "execution_count": null,
   "metadata": {},
   "outputs": [],
   "source": [
    "import os\n",
    "\n",
    "root_dir = os.getcwd()\n",
    "\n",
    "for dirpath, dirnames, filenames in os.walk(root_dir):\n",
    "    for filename in filenames:\n",
    "        if filename.endswith('.pdf'):\n",
    "            file_path = os.path.join(dirpath, filename)\n",
    "            print(file_path)"
   ]
  },
  {
   "cell_type": "code",
   "execution_count": null,
   "metadata": {},
   "outputs": [],
   "source": [
    "# !pip install PDFPlumber\n",
    "import pdfplumber\n",
    "with pdfplumber.open(\"38_Septiembre_2023.pdf\") as temp:\n",
    "   first_page = temp.pages[0]\n",
    "   print(first_page.extract_table())"
   ]
  },
  {
   "cell_type": "code",
   "execution_count": null,
   "metadata": {},
   "outputs": [],
   "source": [
    "# Declaración de un dataframe vacio para la carga\n",
    "import pandas as pd\n",
    "tabla = first_page.extract_table()\n",
    "encabezados = tabla[0]\n",
    "df = pd.DataFrame(columns=encabezados)"
   ]
  },
  {
   "cell_type": "code",
   "execution_count": null,
   "metadata": {},
   "outputs": [],
   "source": [
    "# Se carga las filas del dataframe\n",
    "for fila in tabla:\n",
    "    df.loc[len(df)] = fila\n",
    "print(\"Filas cargadas: {}\".format(len(df))) \n",
    "df =df.drop(0)"
   ]
  },
  {
   "cell_type": "code",
   "execution_count": null,
   "metadata": {},
   "outputs": [],
   "source": [
    "df"
   ]
  },
  {
   "cell_type": "code",
   "execution_count": null,
   "metadata": {},
   "outputs": [],
   "source": [
    "b = first_page.extract_text()\n",
    "nroFact  =b[0:15]\n",
    "print(\"Nro Factura: {}\".format(nroFact)) \n",
    "df['NroFactura']=nroFact"
   ]
  },
  {
   "cell_type": "code",
   "execution_count": null,
   "metadata": {},
   "outputs": [],
   "source": [
    "text = first_page.extract_text()\n",
    "lines = text.split('\\n')\n",
    "filtered_lines = [line for line in lines if 'Fecha y hora' in line]\n",
    "# print('\\n'.join(filtered_lines))\n",
    "\n",
    "str(filtered_lines)\n",
    "fechafact =str(filtered_lines)[27:37]\n",
    "print(\"Fecha Emision: {}\".format(fechafact))\n"
   ]
  },
  {
   "cell_type": "code",
   "execution_count": null,
   "metadata": {},
   "outputs": [],
   "source": [
    "df['FechaEmision']=fechafact"
   ]
  },
  {
   "cell_type": "code",
   "execution_count": null,
   "metadata": {},
   "outputs": [],
   "source": [
    "df"
   ]
  },
  {
   "cell_type": "code",
   "execution_count": null,
   "metadata": {},
   "outputs": [],
   "source": [
    "df = df.drop(range(2, len(df), 1),axis=0)"
   ]
  },
  {
   "cell_type": "code",
   "execution_count": null,
   "metadata": {},
   "outputs": [],
   "source": [
    "df"
   ]
  },
  {
   "cell_type": "code",
   "execution_count": null,
   "metadata": {},
   "outputs": [],
   "source": [
    "df.dtypes"
   ]
  }
 ],
 "metadata": {
  "kernelspec": {
   "display_name": "Python 3",
   "language": "python",
   "name": "python3"
  },
  "language_info": {
   "codemirror_mode": {
    "name": "ipython",
    "version": 3
   },
   "file_extension": ".py",
   "mimetype": "text/x-python",
   "name": "python",
   "nbconvert_exporter": "python",
   "pygments_lexer": "ipython3",
   "version": "3.10.12"
  }
 },
 "nbformat": 4,
 "nbformat_minor": 2
}
