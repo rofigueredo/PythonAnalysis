{
 "cells": [
  {
   "cell_type": "markdown",
   "metadata": {},
   "source": [
    "### Python os.walk() Method"
   ]
  },
  {
   "cell_type": "code",
   "execution_count": null,
   "metadata": {},
   "outputs": [],
   "source": [
    "# Importamos librerias\n",
    "import os\n",
    "\n",
    "import pandas as pd\n",
    "print('pandas: %s' % pd.__version__)"
   ]
  },
  {
   "cell_type": "code",
   "execution_count": null,
   "metadata": {},
   "outputs": [],
   "source": [
    "# leer la ruta especificadas\n",
    "for root, dirs, files in os.walk(\".\", topdown=False):\n",
    "   for name in files:\n",
    "      print(os.path.join(root, name))\n",
    "   for name in dirs:\n",
    "      print(os.path.join(root, name))"
   ]
  },
  {
   "cell_type": "markdown",
   "metadata": {},
   "source": [
    "### Ejemplo de funcionpara leer archivos segun extension"
   ]
  },
  {
   "cell_type": "code",
   "execution_count": null,
   "metadata": {},
   "outputs": [],
   "source": [
    "import os\n",
    "\n",
    "root_dir = os.getcwd()\n",
    "\n",
    "def read_Excel_file(file_path):\n",
    "    # Code to read Excel file\n",
    "\n",
    "    for dirpath, dirnames, filenames in os.walk(root_dir):\n",
    "        for filename in filenames:\n",
    "            if filename.endswith('.xlsx') or filename.endswith('.xls'):\n",
    "                file_path = os.path.join(dirpath, filename)\n",
    "                read_Excel_file(file_path)"
   ]
  },
  {
   "cell_type": "code",
   "execution_count": null,
   "metadata": {},
   "outputs": [],
   "source": [
    "import os\n",
    "\n",
    "path = r'C:\\Users\\rofigueredo\\PythonAnalysis\\Files manage'\n",
    "\n",
    "for root, directories, files in os.walk(path):\n",
    "    for name in files:\n",
    "        if name.endswith('.xlsx'):\n",
    "            file_path = os.path.join(root, name)\n",
    "            # Ejecuta este paso para identificar solo los archivos con extension \".xlsx\"\n",
    "            print(file_path)"
   ]
  },
  {
   "cell_type": "code",
   "execution_count": null,
   "metadata": {},
   "outputs": [],
   "source": [
    "# Lectura de archivos plantilla, es decir mismo formato, ejemplo en una hoja especifica\n",
    "import os\n",
    "import pandas as pd\n",
    "\n",
    "path = r'C:\\Users\\rofigueredo\\PythonAnalysis\\Files manage'\n",
    "\n",
    "filenames  = []\n",
    "for root, directories, files in os.walk(path):\n",
    "    for name in files:\n",
    "        if name.endswith('.xlsx'):\n",
    "            file_path = os.path.join(root, name)\n",
    "            # Ejecuta este paso para identificar solo los archivos con extension \".xlsx\"\n",
    "            # print(file_path)\n",
    "            filenames.append(os.path.join(root, name))\n",
    "\n",
    "df_archivos = []\n",
    "if filenames:\n",
    "    for elemento in filenames:\n",
    "        #print(elemento)\n",
    "        df_excels = pd.read_excel(elemento, sheet_name='Relative and Absolute cells')\n",
    "        df_archivos.append(df_excels)\n",
    "\n",
    "df = pd.concat(df_archivos)\n",
    "print('Shapes: ' + str(df.shape))"
   ]
  }
 ],
 "metadata": {
  "kernelspec": {
   "display_name": "Python 3",
   "language": "python",
   "name": "python3"
  },
  "language_info": {
   "codemirror_mode": {
    "name": "ipython",
    "version": 3
   },
   "file_extension": ".py",
   "mimetype": "text/x-python",
   "name": "python",
   "nbconvert_exporter": "python",
   "pygments_lexer": "ipython3",
   "version": "3.11.2"
  },
  "orig_nbformat": 4
 },
 "nbformat": 4,
 "nbformat_minor": 2
}
