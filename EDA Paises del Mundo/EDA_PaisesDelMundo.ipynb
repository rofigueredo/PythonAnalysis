{
 "cells": [
  {
   "cell_type": "markdown",
   "metadata": {},
   "source": [
    "### Exploratory Data Analysis\n",
    "Vamos a leer un csv directamente desde una URL de GitHub que contiene información geográfica básica de los países del mundo y vamos a jugar un poco con esos datos."
   ]
  },
  {
   "cell_type": "code",
   "execution_count": 1,
   "metadata": {},
   "outputs": [
    {
     "name": "stdout",
     "output_type": "stream",
     "text": [
      "scipy: 1.5.3\n",
      "scipy: 1.23.5\n",
      "matplotlib: 3.7.1\n",
      "statsmodels: 0.13.5\n"
     ]
    }
   ],
   "source": [
    "# Importamos librerias\n",
    "# scipy\n",
    "import pandas as pd\n",
    "print('scipy: %s' % pd.__version__)\n",
    "import numpy as np\n",
    "print('scipy: %s' % np.__version__)\n",
    "import matplotlib\n",
    "import matplotlib.pyplot as plt\n",
    "print('matplotlib: %s' % matplotlib.__version__)\n",
    "import statsmodels.api as sm\n",
    "print('statsmodels: %s' % sm.__version__)"
   ]
  },
  {
   "cell_type": "code",
   "execution_count": 2,
   "metadata": {},
   "outputs": [
    {
     "data": {
      "text/html": [
       "<div>\n",
       "<style scoped>\n",
       "    .dataframe tbody tr th:only-of-type {\n",
       "        vertical-align: middle;\n",
       "    }\n",
       "\n",
       "    .dataframe tbody tr th {\n",
       "        vertical-align: top;\n",
       "    }\n",
       "\n",
       "    .dataframe thead th {\n",
       "        text-align: right;\n",
       "    }\n",
       "</style>\n",
       "<table border=\"1\" class=\"dataframe\">\n",
       "  <thead>\n",
       "    <tr style=\"text-align: right;\">\n",
       "      <th></th>\n",
       "      <th>alpha_2</th>\n",
       "      <th>alpha_3</th>\n",
       "      <th>area</th>\n",
       "      <th>capital</th>\n",
       "      <th>continent</th>\n",
       "      <th>currency_code</th>\n",
       "      <th>currency_name</th>\n",
       "      <th>eqivalent_fips_code</th>\n",
       "      <th>fips</th>\n",
       "      <th>geoname_id</th>\n",
       "      <th>languages</th>\n",
       "      <th>name</th>\n",
       "      <th>neighbours</th>\n",
       "      <th>numeric</th>\n",
       "      <th>phone</th>\n",
       "      <th>population</th>\n",
       "      <th>postal_code_format</th>\n",
       "      <th>postal_code_regex</th>\n",
       "      <th>tld</th>\n",
       "    </tr>\n",
       "  </thead>\n",
       "  <tbody>\n",
       "    <tr>\n",
       "      <th>0</th>\n",
       "      <td>AD</td>\n",
       "      <td>AND</td>\n",
       "      <td>468.0</td>\n",
       "      <td>Andorra la Vella</td>\n",
       "      <td>EU</td>\n",
       "      <td>EUR</td>\n",
       "      <td>Euro</td>\n",
       "      <td>NaN</td>\n",
       "      <td>AN</td>\n",
       "      <td>3041565</td>\n",
       "      <td>ca</td>\n",
       "      <td>Andorra</td>\n",
       "      <td>ES,FR</td>\n",
       "      <td>20</td>\n",
       "      <td>376</td>\n",
       "      <td>84000</td>\n",
       "      <td>AD###</td>\n",
       "      <td>^(?:AD)*(\\d{3})$</td>\n",
       "      <td>.ad</td>\n",
       "    </tr>\n",
       "    <tr>\n",
       "      <th>1</th>\n",
       "      <td>AE</td>\n",
       "      <td>ARE</td>\n",
       "      <td>82880.0</td>\n",
       "      <td>Abu Dhabi</td>\n",
       "      <td>AS</td>\n",
       "      <td>AED</td>\n",
       "      <td>Dirham</td>\n",
       "      <td>NaN</td>\n",
       "      <td>AE</td>\n",
       "      <td>290557</td>\n",
       "      <td>ar-AE,fa,en,hi,ur</td>\n",
       "      <td>United Arab Emirates</td>\n",
       "      <td>SA,OM</td>\n",
       "      <td>784</td>\n",
       "      <td>971</td>\n",
       "      <td>4975593</td>\n",
       "      <td>NaN</td>\n",
       "      <td>NaN</td>\n",
       "      <td>.ae</td>\n",
       "    </tr>\n",
       "    <tr>\n",
       "      <th>2</th>\n",
       "      <td>AF</td>\n",
       "      <td>AFG</td>\n",
       "      <td>647500.0</td>\n",
       "      <td>Kabul</td>\n",
       "      <td>AS</td>\n",
       "      <td>AFN</td>\n",
       "      <td>Afghani</td>\n",
       "      <td>NaN</td>\n",
       "      <td>AF</td>\n",
       "      <td>1149361</td>\n",
       "      <td>fa-AF,ps,uz-AF,tk</td>\n",
       "      <td>Afghanistan</td>\n",
       "      <td>TM,CN,IR,TJ,PK,UZ</td>\n",
       "      <td>4</td>\n",
       "      <td>93</td>\n",
       "      <td>29121286</td>\n",
       "      <td>NaN</td>\n",
       "      <td>NaN</td>\n",
       "      <td>.af</td>\n",
       "    </tr>\n",
       "    <tr>\n",
       "      <th>3</th>\n",
       "      <td>AG</td>\n",
       "      <td>ATG</td>\n",
       "      <td>443.0</td>\n",
       "      <td>St. John's</td>\n",
       "      <td>NaN</td>\n",
       "      <td>XCD</td>\n",
       "      <td>Dollar</td>\n",
       "      <td>NaN</td>\n",
       "      <td>AC</td>\n",
       "      <td>3576396</td>\n",
       "      <td>en-AG</td>\n",
       "      <td>Antigua and Barbuda</td>\n",
       "      <td>NaN</td>\n",
       "      <td>28</td>\n",
       "      <td>+1-268</td>\n",
       "      <td>86754</td>\n",
       "      <td>NaN</td>\n",
       "      <td>NaN</td>\n",
       "      <td>.ag</td>\n",
       "    </tr>\n",
       "    <tr>\n",
       "      <th>4</th>\n",
       "      <td>AI</td>\n",
       "      <td>AIA</td>\n",
       "      <td>102.0</td>\n",
       "      <td>The Valley</td>\n",
       "      <td>NaN</td>\n",
       "      <td>XCD</td>\n",
       "      <td>Dollar</td>\n",
       "      <td>NaN</td>\n",
       "      <td>AV</td>\n",
       "      <td>3573511</td>\n",
       "      <td>en-AI</td>\n",
       "      <td>Anguilla</td>\n",
       "      <td>NaN</td>\n",
       "      <td>660</td>\n",
       "      <td>+1-264</td>\n",
       "      <td>13254</td>\n",
       "      <td>NaN</td>\n",
       "      <td>NaN</td>\n",
       "      <td>.ai</td>\n",
       "    </tr>\n",
       "  </tbody>\n",
       "</table>\n",
       "</div>"
      ],
      "text/plain": [
       "  alpha_2 alpha_3      area           capital continent currency_code  \\\n",
       "0      AD     AND     468.0  Andorra la Vella        EU           EUR   \n",
       "1      AE     ARE   82880.0         Abu Dhabi        AS           AED   \n",
       "2      AF     AFG  647500.0             Kabul        AS           AFN   \n",
       "3      AG     ATG     443.0        St. John's       NaN           XCD   \n",
       "4      AI     AIA     102.0        The Valley       NaN           XCD   \n",
       "\n",
       "  currency_name eqivalent_fips_code fips  geoname_id          languages  \\\n",
       "0          Euro                 NaN   AN     3041565                 ca   \n",
       "1        Dirham                 NaN   AE      290557  ar-AE,fa,en,hi,ur   \n",
       "2       Afghani                 NaN   AF     1149361  fa-AF,ps,uz-AF,tk   \n",
       "3        Dollar                 NaN   AC     3576396              en-AG   \n",
       "4        Dollar                 NaN   AV     3573511              en-AI   \n",
       "\n",
       "                   name         neighbours  numeric   phone  population  \\\n",
       "0               Andorra              ES,FR       20     376       84000   \n",
       "1  United Arab Emirates              SA,OM      784     971     4975593   \n",
       "2           Afghanistan  TM,CN,IR,TJ,PK,UZ        4      93    29121286   \n",
       "3   Antigua and Barbuda                NaN       28  +1-268       86754   \n",
       "4              Anguilla                NaN      660  +1-264       13254   \n",
       "\n",
       "  postal_code_format postal_code_regex  tld  \n",
       "0              AD###  ^(?:AD)*(\\d{3})$  .ad  \n",
       "1                NaN               NaN  .ae  \n",
       "2                NaN               NaN  .af  \n",
       "3                NaN               NaN  .ag  \n",
       "4                NaN               NaN  .ai  "
      ]
     },
     "execution_count": 2,
     "metadata": {},
     "output_type": "execute_result"
    }
   ],
   "source": [
    "# Obtenemos los datos desde una URL Web\n",
    "url = 'https://raw.githubusercontent.com/lorey/list-of-countries/master/csv/countries.csv'\n",
    "df_Paises = pd.read_csv(url, sep=';')\n",
    "df_Paises.head()"
   ]
  },
  {
   "cell_type": "code",
   "execution_count": 3,
   "metadata": {},
   "outputs": [
    {
     "name": "stdout",
     "output_type": "stream",
     "text": [
      "Cantidad de filas y columnas:  (252, 19)\n",
      "Nombre de columnas:  Index(['alpha_2', 'alpha_3', 'area', 'capital', 'continent', 'currency_code',\n",
      "       'currency_name', 'eqivalent_fips_code', 'fips', 'geoname_id',\n",
      "       'languages', 'name', 'neighbours', 'numeric', 'phone', 'population',\n",
      "       'postal_code_format', 'postal_code_regex', 'tld'],\n",
      "      dtype='object')\n"
     ]
    }
   ],
   "source": [
    "# datos básicos que nos brinda pandas:\n",
    "print('Cantidad de filas y columnas: ', df_Paises.shape)\n",
    "print('Nombre de columnas: ', df_Paises.columns)"
   ]
  },
  {
   "cell_type": "code",
   "execution_count": 4,
   "metadata": {},
   "outputs": [
    {
     "name": "stdout",
     "output_type": "stream",
     "text": [
      "<class 'pandas.core.frame.DataFrame'>\n",
      "RangeIndex: 252 entries, 0 to 251\n",
      "Data columns (total 19 columns):\n",
      " #   Column               Non-Null Count  Dtype  \n",
      "---  ------               --------------  -----  \n",
      " 0   alpha_2              251 non-null    object \n",
      " 1   alpha_3              252 non-null    object \n",
      " 2   area                 252 non-null    float64\n",
      " 3   capital              246 non-null    object \n",
      " 4   continent            210 non-null    object \n",
      " 5   currency_code        251 non-null    object \n",
      " 6   currency_name        251 non-null    object \n",
      " 7   eqivalent_fips_code  1 non-null      object \n",
      " 8   fips                 249 non-null    object \n",
      " 9   geoname_id           252 non-null    int64  \n",
      " 10  languages            249 non-null    object \n",
      " 11  name                 252 non-null    object \n",
      " 12  neighbours           165 non-null    object \n",
      " 13  numeric              252 non-null    int64  \n",
      " 14  phone                247 non-null    object \n",
      " 15  population           252 non-null    int64  \n",
      " 16  postal_code_format   154 non-null    object \n",
      " 17  postal_code_regex    152 non-null    object \n",
      " 18  tld                  250 non-null    object \n",
      "dtypes: float64(1), int64(3), object(15)\n",
      "memory usage: 37.5+ KB\n"
     ]
    }
   ],
   "source": [
    "# Columnas, nulos y tipo de datos\n",
    "df_Paises.info()"
   ]
  },
  {
   "cell_type": "code",
   "execution_count": 5,
   "metadata": {},
   "outputs": [
    {
     "data": {
      "text/html": [
       "<div>\n",
       "<style scoped>\n",
       "    .dataframe tbody tr th:only-of-type {\n",
       "        vertical-align: middle;\n",
       "    }\n",
       "\n",
       "    .dataframe tbody tr th {\n",
       "        vertical-align: top;\n",
       "    }\n",
       "\n",
       "    .dataframe thead th {\n",
       "        text-align: right;\n",
       "    }\n",
       "</style>\n",
       "<table border=\"1\" class=\"dataframe\">\n",
       "  <thead>\n",
       "    <tr style=\"text-align: right;\">\n",
       "      <th></th>\n",
       "      <th>area</th>\n",
       "      <th>geoname_id</th>\n",
       "      <th>numeric</th>\n",
       "      <th>population</th>\n",
       "    </tr>\n",
       "  </thead>\n",
       "  <tbody>\n",
       "    <tr>\n",
       "      <th>count</th>\n",
       "      <td>2.520000e+02</td>\n",
       "      <td>2.520000e+02</td>\n",
       "      <td>252.000000</td>\n",
       "      <td>2.520000e+02</td>\n",
       "    </tr>\n",
       "    <tr>\n",
       "      <th>mean</th>\n",
       "      <td>5.952879e+05</td>\n",
       "      <td>2.427870e+06</td>\n",
       "      <td>434.309524</td>\n",
       "      <td>2.727679e+07</td>\n",
       "    </tr>\n",
       "    <tr>\n",
       "      <th>std</th>\n",
       "      <td>1.904818e+06</td>\n",
       "      <td>1.632093e+06</td>\n",
       "      <td>254.663139</td>\n",
       "      <td>1.164127e+08</td>\n",
       "    </tr>\n",
       "    <tr>\n",
       "      <th>min</th>\n",
       "      <td>0.000000e+00</td>\n",
       "      <td>4.951800e+04</td>\n",
       "      <td>0.000000</td>\n",
       "      <td>0.000000e+00</td>\n",
       "    </tr>\n",
       "    <tr>\n",
       "      <th>25%</th>\n",
       "      <td>1.098000e+03</td>\n",
       "      <td>1.163774e+06</td>\n",
       "      <td>217.000000</td>\n",
       "      <td>1.879528e+05</td>\n",
       "    </tr>\n",
       "    <tr>\n",
       "      <th>50%</th>\n",
       "      <td>6.489450e+04</td>\n",
       "      <td>2.367967e+06</td>\n",
       "      <td>436.000000</td>\n",
       "      <td>4.268583e+06</td>\n",
       "    </tr>\n",
       "    <tr>\n",
       "      <th>75%</th>\n",
       "      <td>3.622245e+05</td>\n",
       "      <td>3.478296e+06</td>\n",
       "      <td>652.500000</td>\n",
       "      <td>1.536688e+07</td>\n",
       "    </tr>\n",
       "    <tr>\n",
       "      <th>max</th>\n",
       "      <td>1.710000e+07</td>\n",
       "      <td>8.505033e+06</td>\n",
       "      <td>894.000000</td>\n",
       "      <td>1.330044e+09</td>\n",
       "    </tr>\n",
       "  </tbody>\n",
       "</table>\n",
       "</div>"
      ],
      "text/plain": [
       "               area    geoname_id     numeric    population\n",
       "count  2.520000e+02  2.520000e+02  252.000000  2.520000e+02\n",
       "mean   5.952879e+05  2.427870e+06  434.309524  2.727679e+07\n",
       "std    1.904818e+06  1.632093e+06  254.663139  1.164127e+08\n",
       "min    0.000000e+00  4.951800e+04    0.000000  0.000000e+00\n",
       "25%    1.098000e+03  1.163774e+06  217.000000  1.879528e+05\n",
       "50%    6.489450e+04  2.367967e+06  436.000000  4.268583e+06\n",
       "75%    3.622245e+05  3.478296e+06  652.500000  1.536688e+07\n",
       "max    1.710000e+07  8.505033e+06  894.000000  1.330044e+09"
      ]
     },
     "execution_count": 5,
     "metadata": {},
     "output_type": "execute_result"
    }
   ],
   "source": [
    "df_Paises.describe()"
   ]
  },
  {
   "cell_type": "code",
   "execution_count": 6,
   "metadata": {},
   "outputs": [
    {
     "name": "stderr",
     "output_type": "stream",
     "text": [
      "C:\\Users\\rfigu\\AppData\\Local\\Temp\\ipykernel_2144\\2259420557.py:1: FutureWarning: The default value of numeric_only in DataFrame.corr is deprecated. In a future version, it will default to False. Select only valid columns or specify the value of numeric_only to silence this warning.\n",
      "  corr = df_Paises.set_index('alpha_3').corr()\n"
     ]
    },
    {
     "data": {
      "image/png": "[encoded data removed]",
      "text/plain": [
       "<Figure size 640x480 with 2 Axes>"
      ]
     },
     "metadata": {},
     "output_type": "display_data"
    }
   ],
   "source": [
    "corr = df_Paises.set_index('alpha_3').corr()\n",
    "sm.graphics.plot_corr(corr, xnames=list(corr.columns))\n",
    "plt.show()"
   ]
  },
  {
   "cell_type": "code",
   "execution_count": 7,
   "metadata": {},
   "outputs": [
    {
     "name": "stdout",
     "output_type": "stream",
     "text": [
      "       country  year  population\n",
      "0  Afghanistan  1952     8425333\n",
      "1  Afghanistan  1957     9240934\n",
      "2  Afghanistan  1962    10267083\n",
      "3  Afghanistan  1967    11537966\n",
      "4  Afghanistan  1972    13079460\n"
     ]
    }
   ],
   "source": [
    "# Leemos un 2do Csv \n",
    "url = 'https://raw.githubusercontent.com/DrueStaples/Population_Growth/master/countries.csv'\n",
    "df_pop = pd.read_csv(url)\n",
    "print(df_pop.head(5))\n"
   ]
  },
  {
   "cell_type": "code",
   "execution_count": 8,
   "metadata": {},
   "outputs": [
    {
     "name": "stdout",
     "output_type": "stream",
     "text": [
      "     country  year  population\n",
      "1416   Spain  1952    28549870\n",
      "1417   Spain  1957    29841614\n",
      "1418   Spain  1962    31158061\n",
      "1419   Spain  1967    32850275\n",
      "1420   Spain  1972    34513161\n"
     ]
    },
    {
     "data": {
      "text/plain": [
       "<Axes: >"
      ]
     },
     "execution_count": 8,
     "metadata": {},
     "output_type": "execute_result"
    },
    {
     "data": {
      "image/png": "[encoded data removed]",
      "text/plain": [
       "<Figure size 640x480 with 1 Axes>"
      ]
     },
     "metadata": {},
     "output_type": "display_data"
    }
   ],
   "source": [
    "# Filtramos España\n",
    "df_pop_es = df_pop[df_pop[\"country\"] == 'Spain' ]\n",
    "print(df_pop_es.head())\n",
    "df_pop_es.drop(['country'],axis=1)['population'].plot(kind='bar')"
   ]
  },
  {
   "cell_type": "markdown",
   "metadata": {},
   "source": [
    "Gráfica comparativa de crecimiento poblacional entre España y Argentina entre los años 1952 al 2007"
   ]
  },
  {
   "cell_type": "code",
   "execution_count": 9,
   "metadata": {},
   "outputs": [
    {
     "data": {
      "text/plain": [
       "<Axes: >"
      ]
     },
     "execution_count": 9,
     "metadata": {},
     "output_type": "execute_result"
    },
    {
     "data": {
      "image/png": "[encoded data removed]",
      "text/plain": [
       "<Figure size 640x480 with 1 Axes>"
      ]
     },
     "metadata": {},
     "output_type": "display_data"
    }
   ],
   "source": [
    "df_pop_ar = df_pop[(df_pop[\"country\"] == 'Argentina')]\n",
    "\n",
    "# Prepara los valores para el grafico de barras\n",
    "# anios para la etiqueta del eje X\n",
    "anios = df_pop_es['year'].unique()\n",
    "pop_ar = df_pop_ar['population'].values\n",
    "pop_es = df_pop_es['population'].values\n",
    "\n",
    "df_plot = pd.DataFrame({'Argentina': pop_ar,\n",
    "                    'Spain': pop_es}, \n",
    "                       index=anios)\n",
    "df_plot.plot(kind='bar')"
   ]
  },
  {
   "cell_type": "code",
   "execution_count": 10,
   "metadata": {},
   "outputs": [
    {
     "data": {
      "text/html": [
       "<div>\n",
       "<style scoped>\n",
       "    .dataframe tbody tr th:only-of-type {\n",
       "        vertical-align: middle;\n",
       "    }\n",
       "\n",
       "    .dataframe tbody tr th {\n",
       "        vertical-align: top;\n",
       "    }\n",
       "\n",
       "    .dataframe thead th {\n",
       "        text-align: right;\n",
       "    }\n",
       "</style>\n",
       "<table border=\"1\" class=\"dataframe\">\n",
       "  <thead>\n",
       "    <tr style=\"text-align: right;\">\n",
       "      <th></th>\n",
       "      <th>alpha_2</th>\n",
       "      <th>alpha_3</th>\n",
       "      <th>area</th>\n",
       "      <th>capital</th>\n",
       "      <th>continent</th>\n",
       "      <th>currency_code</th>\n",
       "      <th>currency_name</th>\n",
       "      <th>eqivalent_fips_code</th>\n",
       "      <th>fips</th>\n",
       "      <th>geoname_id</th>\n",
       "      <th>languages</th>\n",
       "      <th>name</th>\n",
       "      <th>neighbours</th>\n",
       "      <th>numeric</th>\n",
       "      <th>phone</th>\n",
       "      <th>population</th>\n",
       "      <th>postal_code_format</th>\n",
       "      <th>postal_code_regex</th>\n",
       "      <th>tld</th>\n",
       "    </tr>\n",
       "  </thead>\n",
       "  <tbody>\n",
       "    <tr>\n",
       "      <th>9</th>\n",
       "      <td>AR</td>\n",
       "      <td>ARG</td>\n",
       "      <td>2766890.0</td>\n",
       "      <td>Buenos Aires</td>\n",
       "      <td>SA</td>\n",
       "      <td>ARS</td>\n",
       "      <td>Peso</td>\n",
       "      <td></td>\n",
       "      <td>AR</td>\n",
       "      <td>3865483</td>\n",
       "      <td>es-AR,en,it,de,fr,gn</td>\n",
       "      <td>Argentina</td>\n",
       "      <td>CL,BO,UY,PY,BR</td>\n",
       "      <td>32</td>\n",
       "      <td>54</td>\n",
       "      <td>41343201</td>\n",
       "      <td>@####@@@</td>\n",
       "      <td>^[A-Z]?\\d{4}[A-Z]{0,3}$</td>\n",
       "      <td>.ar</td>\n",
       "    </tr>\n",
       "    <tr>\n",
       "      <th>13</th>\n",
       "      <td>AW</td>\n",
       "      <td>ABW</td>\n",
       "      <td>193.0</td>\n",
       "      <td>Oranjestad</td>\n",
       "      <td></td>\n",
       "      <td>AWG</td>\n",
       "      <td>Guilder</td>\n",
       "      <td></td>\n",
       "      <td>AA</td>\n",
       "      <td>3577279</td>\n",
       "      <td>nl-AW,es,en</td>\n",
       "      <td>Aruba</td>\n",
       "      <td></td>\n",
       "      <td>533</td>\n",
       "      <td>297</td>\n",
       "      <td>71566</td>\n",
       "      <td></td>\n",
       "      <td></td>\n",
       "      <td>.aw</td>\n",
       "    </tr>\n",
       "    <tr>\n",
       "      <th>28</th>\n",
       "      <td>BO</td>\n",
       "      <td>BOL</td>\n",
       "      <td>1098580.0</td>\n",
       "      <td>Sucre</td>\n",
       "      <td>SA</td>\n",
       "      <td>BOB</td>\n",
       "      <td>Boliviano</td>\n",
       "      <td></td>\n",
       "      <td>BL</td>\n",
       "      <td>3923057</td>\n",
       "      <td>es-BO,qu,ay</td>\n",
       "      <td>Bolivia</td>\n",
       "      <td>PE,CL,PY,BR,AR</td>\n",
       "      <td>68</td>\n",
       "      <td>591</td>\n",
       "      <td>9947418</td>\n",
       "      <td></td>\n",
       "      <td></td>\n",
       "      <td>.bo</td>\n",
       "    </tr>\n",
       "    <tr>\n",
       "      <th>30</th>\n",
       "      <td>BR</td>\n",
       "      <td>BRA</td>\n",
       "      <td>8511965.0</td>\n",
       "      <td>Brasilia</td>\n",
       "      <td>SA</td>\n",
       "      <td>BRL</td>\n",
       "      <td>Real</td>\n",
       "      <td></td>\n",
       "      <td>BR</td>\n",
       "      <td>3469034</td>\n",
       "      <td>pt-BR,es,en,fr</td>\n",
       "      <td>Brazil</td>\n",
       "      <td>SR,PE,BO,UY,GY,PY,GF,VE,CO,AR</td>\n",
       "      <td>76</td>\n",
       "      <td>55</td>\n",
       "      <td>201103330</td>\n",
       "      <td>#####-###</td>\n",
       "      <td>^\\d{5}-\\d{3}$</td>\n",
       "      <td>.br</td>\n",
       "    </tr>\n",
       "    <tr>\n",
       "      <th>36</th>\n",
       "      <td>BZ</td>\n",
       "      <td>BLZ</td>\n",
       "      <td>22966.0</td>\n",
       "      <td>Belmopan</td>\n",
       "      <td></td>\n",
       "      <td>BZD</td>\n",
       "      <td>Dollar</td>\n",
       "      <td></td>\n",
       "      <td>BH</td>\n",
       "      <td>3582678</td>\n",
       "      <td>en-BZ,es</td>\n",
       "      <td>Belize</td>\n",
       "      <td>GT,MX</td>\n",
       "      <td>84</td>\n",
       "      <td>501</td>\n",
       "      <td>314522</td>\n",
       "      <td></td>\n",
       "      <td></td>\n",
       "      <td>.bz</td>\n",
       "    </tr>\n",
       "  </tbody>\n",
       "</table>\n",
       "</div>"
      ],
      "text/plain": [
       "   alpha_2 alpha_3       area       capital continent currency_code  \\\n",
       "9       AR     ARG  2766890.0  Buenos Aires        SA           ARS   \n",
       "13      AW     ABW      193.0    Oranjestad                     AWG   \n",
       "28      BO     BOL  1098580.0         Sucre        SA           BOB   \n",
       "30      BR     BRA  8511965.0      Brasilia        SA           BRL   \n",
       "36      BZ     BLZ    22966.0      Belmopan                     BZD   \n",
       "\n",
       "   currency_name eqivalent_fips_code fips  geoname_id             languages  \\\n",
       "9           Peso                       AR     3865483  es-AR,en,it,de,fr,gn   \n",
       "13       Guilder                       AA     3577279           nl-AW,es,en   \n",
       "28     Boliviano                       BL     3923057           es-BO,qu,ay   \n",
       "30          Real                       BR     3469034        pt-BR,es,en,fr   \n",
       "36        Dollar                       BH     3582678              en-BZ,es   \n",
       "\n",
       "         name                     neighbours  numeric phone  population  \\\n",
       "9   Argentina                 CL,BO,UY,PY,BR       32    54    41343201   \n",
       "13      Aruba                                     533   297       71566   \n",
       "28    Bolivia                 PE,CL,PY,BR,AR       68   591     9947418   \n",
       "30     Brazil  SR,PE,BO,UY,GY,PY,GF,VE,CO,AR       76    55   201103330   \n",
       "36     Belize                          GT,MX       84   501      314522   \n",
       "\n",
       "   postal_code_format        postal_code_regex  tld  \n",
       "9            @####@@@  ^[A-Z]?\\d{4}[A-Z]{0,3}$  .ar  \n",
       "13                                              .aw  \n",
       "28                                              .bo  \n",
       "30          #####-###            ^\\d{5}-\\d{3}$  .br  \n",
       "36                                              .bz  "
      ]
     },
     "execution_count": 10,
     "metadata": {},
     "output_type": "execute_result"
    }
   ],
   "source": [
    "df_espanol = df_Paises.replace(np.nan, '', regex=True) # cambia a nan los espacios Nulos\n",
    "df_espanol = df_espanol[ df_espanol['languages'].str.contains('es') ]\n",
    "df_espanol.head()"
   ]
  },
  {
   "cell_type": "code",
   "execution_count": 11,
   "metadata": {},
   "outputs": [
    {
     "data": {
      "text/plain": [
       "<Axes: xlabel='alpha_3'>"
      ]
     },
     "execution_count": 11,
     "metadata": {},
     "output_type": "execute_result"
    },
    {
     "data": {
      "image/png": "[encoded data removed]",
      "text/plain": [
       "<Figure size 1200x600 with 1 Axes>"
      ]
     },
     "metadata": {},
     "output_type": "display_data"
    }
   ],
   "source": [
    "## Generamos el grafico de barras\n",
    "df_espanol.set_index('alpha_3')[['population','area']].plot(kind='bar',rot=65,figsize=(12,6))"
   ]
  },
  {
   "cell_type": "markdown",
   "metadata": {},
   "source": [
    "### Encontrando Outliers    "
   ]
  },
  {
   "cell_type": "code",
   "execution_count": 12,
   "metadata": {},
   "outputs": [
    {
     "name": "stdout",
     "output_type": "stream",
     "text": [
      "-102872707.87855022\n",
      "167589161.25786057\n"
     ]
    },
    {
     "data": {
      "text/plain": [
       "['BRA', 'USA']"
      ]
     },
     "execution_count": 12,
     "metadata": {},
     "output_type": "execute_result"
    }
   ],
   "source": [
    "anomalias = []      #Creamo una lista vacia\n",
    " \n",
    "# Funcion ejemplo para detección de outliers\n",
    "def find_anomalias(data):\n",
    "    # Set upper and lower limit to 2 standard deviation\n",
    "    data_std = data.std()\n",
    "    data_mean = data.mean()\n",
    "    anomaly_cut_off = data_std * 2\n",
    "    lower_limit  = data_mean - anomaly_cut_off \n",
    "    upper_limit = data_mean + anomaly_cut_off\n",
    "    print(lower_limit.iloc[0])\n",
    "    print(upper_limit.iloc[0])\n",
    " \n",
    "    # Generate outliers\n",
    "    for index, row in data.iterrows():\n",
    "        outlier = row # # obtener primer columna\n",
    "        # print(outlier)\n",
    "        if (outlier.iloc[0] > upper_limit.iloc[0]) or (outlier.iloc[0] < lower_limit.iloc[0]):\n",
    "            anomalias.append(index)\n",
    "    return anomalias\n",
    " \n",
    "find_anomalias(df_espanol.set_index('alpha_3')[['population']])"
   ]
  },
  {
   "cell_type": "code",
   "execution_count": 13,
   "metadata": {},
   "outputs": [
    {
     "data": {
      "text/plain": [
       "<Axes: xlabel='alpha_3'>"
      ]
     },
     "execution_count": 13,
     "metadata": {},
     "output_type": "execute_result"
    },
    {
     "data": {
      "image/png": "[encoded data removed]",
      "text/plain": [
       "<Figure size 1000x500 with 1 Axes>"
      ]
     },
     "metadata": {},
     "output_type": "display_data"
    }
   ],
   "source": [
    "# Quitemos BRA y USA por ser outlies y volvamos a graficar:\n",
    "df_espanol.drop([30,233], inplace=True)\n",
    "df_espanol.set_index('alpha_3')[['population','area']].sort_values([\"population\"]).plot(kind='bar',rot=65,figsize=(10,5))"
   ]
  }
 ],
 "metadata": {
  "kernelspec": {
   "display_name": "Python 3",
   "language": "python",
   "name": "python3"
  },
  "language_info": {
   "codemirror_mode": {
    "name": "ipython",
    "version": 3
   },
   "file_extension": ".py",
   "mimetype": "text/x-python",
   "name": "python",
   "nbconvert_exporter": "python",
   "pygments_lexer": "ipython3",
   "version": "3.11.2"
  },
  "orig_nbformat": 4
 },
 "nbformat": 4,
 "nbformat_minor": 2
}
